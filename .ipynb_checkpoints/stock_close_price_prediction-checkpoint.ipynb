{
 "cells": [
  {
   "cell_type": "code",
   "execution_count": 1,
   "id": "21be4a1d",
   "metadata": {},
   "outputs": [
    {
     "name": "stderr",
     "output_type": "stream",
     "text": [
      "C:\\Users\\adity\\Anaconda3\\lib\\site-packages\\numpy\\_distributor_init.py:30: UserWarning: loaded more than 1 DLL from .libs:\n",
      "C:\\Users\\adity\\Anaconda3\\lib\\site-packages\\numpy\\.libs\\libopenblas.PYQHXLVVQ7VESDPUVUADXEVJOBGHJPAY.gfortran-win_amd64.dll\n",
      "C:\\Users\\adity\\Anaconda3\\lib\\site-packages\\numpy\\.libs\\libopenblas.WCDJNK7YVMPZQ2ME2ZZHJJRJ3JIKNDB7.gfortran-win_amd64.dll\n",
      "  warnings.warn(\"loaded more than 1 DLL from .libs:\"\n"
     ]
    }
   ],
   "source": [
    "import numpy as np\n",
    "import pandas as pd\n",
    "import yfinance as yf\n",
    "import tensorflow as tf\n",
    "from tensorflow.keras.layers import Dense, LSTM\n",
    "from tensorflow.keras.models import Sequential\n",
    "from sklearn.preprocessing import MinMaxScaler\n",
    "pd.options.mode.chained_assignment = None\n",
    "tf.random.set_seed(0)\n",
    "from stock_utils import *"
   ]
  },
  {
   "cell_type": "code",
   "execution_count": 2,
   "id": "1758d027",
   "metadata": {},
   "outputs": [],
   "source": [
    "def RSI(series, period):\n",
    "    \n",
    "    delta = series.diff().dropna()\n",
    "    u = delta * 0\n",
    "    d = u.copy()\n",
    "    u[delta > 0] = delta[delta > 0]\n",
    "    d[delta < 0] = -delta[delta < 0]\n",
    "    u[u.index[period-1]] = np.mean( u[:period] ) #first value is sum of avg gains\n",
    "    u = u.drop(u.index[:(period-1)])\n",
    "    d[d.index[period-1]] = np.mean( d[:period] ) #first value is sum of avg losses\n",
    "    d = d.drop(d.index[:(period-1)])\n",
    "    rs = pd.DataFrame.ewm(u, com=period-1, adjust=False).mean() / \\\n",
    "         pd.DataFrame.ewm(d, com=period-1, adjust=False).mean()\n",
    "    \n",
    "    return 100 - 100 / (1 + rs)\n",
    "\n",
    "\n",
    "def rsi_class(x):\n",
    "    ret = \"low\"\n",
    "    if x < 50:\n",
    "        ret = \"low\"\n",
    "    if x > 50:\n",
    "        ret = \"med\"\n",
    "    if x > 70:\n",
    "        ret = \"high\"\n",
    "    return(ret)"
   ]
  },
  {
   "cell_type": "code",
   "execution_count": 3,
   "id": "22618788",
   "metadata": {},
   "outputs": [
    {
     "name": "stdout",
     "output_type": "stream",
     "text": [
      "[*********************100%***********************]  1 of 1 completed\n",
      "[*********************100%***********************]  1 of 1 completed\n",
      "[*********************100%***********************]  1 of 1 completed\n"
     ]
    },
    {
     "data": {
      "text/html": [
       "<div>\n",
       "<style scoped>\n",
       "    .dataframe tbody tr th:only-of-type {\n",
       "        vertical-align: middle;\n",
       "    }\n",
       "\n",
       "    .dataframe tbody tr th {\n",
       "        vertical-align: top;\n",
       "    }\n",
       "\n",
       "    .dataframe thead th {\n",
       "        text-align: right;\n",
       "    }\n",
       "</style>\n",
       "<table border=\"1\" class=\"dataframe\">\n",
       "  <thead>\n",
       "    <tr style=\"text-align: right;\">\n",
       "      <th></th>\n",
       "      <th>Open</th>\n",
       "      <th>High</th>\n",
       "      <th>Low</th>\n",
       "      <th>Close</th>\n",
       "      <th>Adj Close</th>\n",
       "      <th>Volume</th>\n",
       "      <th>company_name</th>\n",
       "    </tr>\n",
       "    <tr>\n",
       "      <th>Date</th>\n",
       "      <th></th>\n",
       "      <th></th>\n",
       "      <th></th>\n",
       "      <th></th>\n",
       "      <th></th>\n",
       "      <th></th>\n",
       "      <th></th>\n",
       "    </tr>\n",
       "  </thead>\n",
       "  <tbody>\n",
       "    <tr>\n",
       "      <th>2010-01-04</th>\n",
       "      <td>7.622500</td>\n",
       "      <td>7.660714</td>\n",
       "      <td>7.585000</td>\n",
       "      <td>7.643214</td>\n",
       "      <td>6.515212</td>\n",
       "      <td>493729600</td>\n",
       "      <td>APPLE</td>\n",
       "    </tr>\n",
       "    <tr>\n",
       "      <th>2010-01-05</th>\n",
       "      <td>7.664286</td>\n",
       "      <td>7.699643</td>\n",
       "      <td>7.616071</td>\n",
       "      <td>7.656429</td>\n",
       "      <td>6.526477</td>\n",
       "      <td>601904800</td>\n",
       "      <td>APPLE</td>\n",
       "    </tr>\n",
       "    <tr>\n",
       "      <th>2010-01-06</th>\n",
       "      <td>7.656429</td>\n",
       "      <td>7.686786</td>\n",
       "      <td>7.526786</td>\n",
       "      <td>7.534643</td>\n",
       "      <td>6.422665</td>\n",
       "      <td>552160000</td>\n",
       "      <td>APPLE</td>\n",
       "    </tr>\n",
       "    <tr>\n",
       "      <th>2010-01-07</th>\n",
       "      <td>7.562500</td>\n",
       "      <td>7.571429</td>\n",
       "      <td>7.466071</td>\n",
       "      <td>7.520714</td>\n",
       "      <td>6.410791</td>\n",
       "      <td>477131200</td>\n",
       "      <td>APPLE</td>\n",
       "    </tr>\n",
       "    <tr>\n",
       "      <th>2010-01-08</th>\n",
       "      <td>7.510714</td>\n",
       "      <td>7.571429</td>\n",
       "      <td>7.466429</td>\n",
       "      <td>7.570714</td>\n",
       "      <td>6.453411</td>\n",
       "      <td>447610800</td>\n",
       "      <td>APPLE</td>\n",
       "    </tr>\n",
       "    <tr>\n",
       "      <th>2010-01-11</th>\n",
       "      <td>7.600000</td>\n",
       "      <td>7.607143</td>\n",
       "      <td>7.444643</td>\n",
       "      <td>7.503929</td>\n",
       "      <td>6.396482</td>\n",
       "      <td>462229600</td>\n",
       "      <td>APPLE</td>\n",
       "    </tr>\n",
       "    <tr>\n",
       "      <th>2010-01-12</th>\n",
       "      <td>7.471071</td>\n",
       "      <td>7.491786</td>\n",
       "      <td>7.372143</td>\n",
       "      <td>7.418571</td>\n",
       "      <td>6.323722</td>\n",
       "      <td>594459600</td>\n",
       "      <td>APPLE</td>\n",
       "    </tr>\n",
       "    <tr>\n",
       "      <th>2010-01-13</th>\n",
       "      <td>7.423929</td>\n",
       "      <td>7.533214</td>\n",
       "      <td>7.289286</td>\n",
       "      <td>7.523214</td>\n",
       "      <td>6.412922</td>\n",
       "      <td>605892000</td>\n",
       "      <td>APPLE</td>\n",
       "    </tr>\n",
       "    <tr>\n",
       "      <th>2010-01-14</th>\n",
       "      <td>7.503929</td>\n",
       "      <td>7.516429</td>\n",
       "      <td>7.465000</td>\n",
       "      <td>7.479643</td>\n",
       "      <td>6.375781</td>\n",
       "      <td>432894000</td>\n",
       "      <td>APPLE</td>\n",
       "    </tr>\n",
       "    <tr>\n",
       "      <th>2010-01-15</th>\n",
       "      <td>7.533214</td>\n",
       "      <td>7.557143</td>\n",
       "      <td>7.352500</td>\n",
       "      <td>7.354643</td>\n",
       "      <td>6.269229</td>\n",
       "      <td>594067600</td>\n",
       "      <td>APPLE</td>\n",
       "    </tr>\n",
       "  </tbody>\n",
       "</table>\n",
       "</div>"
      ],
      "text/plain": [
       "                Open      High       Low     Close  Adj Close     Volume  \\\n",
       "Date                                                                       \n",
       "2010-01-04  7.622500  7.660714  7.585000  7.643214   6.515212  493729600   \n",
       "2010-01-05  7.664286  7.699643  7.616071  7.656429   6.526477  601904800   \n",
       "2010-01-06  7.656429  7.686786  7.526786  7.534643   6.422665  552160000   \n",
       "2010-01-07  7.562500  7.571429  7.466071  7.520714   6.410791  477131200   \n",
       "2010-01-08  7.510714  7.571429  7.466429  7.570714   6.453411  447610800   \n",
       "2010-01-11  7.600000  7.607143  7.444643  7.503929   6.396482  462229600   \n",
       "2010-01-12  7.471071  7.491786  7.372143  7.418571   6.323722  594459600   \n",
       "2010-01-13  7.423929  7.533214  7.289286  7.523214   6.412922  605892000   \n",
       "2010-01-14  7.503929  7.516429  7.465000  7.479643   6.375781  432894000   \n",
       "2010-01-15  7.533214  7.557143  7.352500  7.354643   6.269229  594067600   \n",
       "\n",
       "           company_name  \n",
       "Date                     \n",
       "2010-01-04        APPLE  \n",
       "2010-01-05        APPLE  \n",
       "2010-01-06        APPLE  \n",
       "2010-01-07        APPLE  \n",
       "2010-01-08        APPLE  \n",
       "2010-01-11        APPLE  \n",
       "2010-01-12        APPLE  \n",
       "2010-01-13        APPLE  \n",
       "2010-01-14        APPLE  \n",
       "2010-01-15        APPLE  "
      ]
     },
     "execution_count": 3,
     "metadata": {},
     "output_type": "execute_result"
    }
   ],
   "source": [
    "from datetime import datetime\n",
    "tech_list = ['AAPL', 'GOOG', 'AMZN']\n",
    "\n",
    "start = \"2010-01-01\"\n",
    "end = datetime.now()\n",
    "for stock in tech_list:\n",
    "    globals()[stock] = yf.download(stock, start, end)\n",
    "    \n",
    "company_list = [AAPL, GOOG, AMZN]\n",
    "company_name = [\"APPLE\", \"GOOGLE\", \"AMAZON\"]\n",
    "\n",
    "for company, com_name in zip(company_list, company_name):\n",
    "    company[\"company_name\"] = com_name\n",
    "    \n",
    "df = pd.concat(company_list, axis=0)\n",
    "df.head(10)"
   ]
  },
  {
   "cell_type": "code",
   "execution_count": 22,
   "id": "ca2e11d5",
   "metadata": {},
   "outputs": [],
   "source": [
    "n_lookback = 500\n",
    "n_forecast = 60\n",
    "df_stock = AMZN.reset_index().copy()"
   ]
  },
  {
   "cell_type": "code",
   "execution_count": 23,
   "id": "f808bc6b",
   "metadata": {},
   "outputs": [],
   "source": [
    "df_stock, df_left = create_backtest_frames(df_stock,n_lookback,n_forecast)"
   ]
  },
  {
   "cell_type": "code",
   "execution_count": 24,
   "id": "3ade467b",
   "metadata": {},
   "outputs": [],
   "source": [
    "df_stock = feature_creation(df_stock)"
   ]
  },
  {
   "cell_type": "code",
   "execution_count": 25,
   "id": "562e6019",
   "metadata": {},
   "outputs": [
    {
     "name": "stdout",
     "output_type": "stream",
     "text": [
      "<class 'pandas.core.frame.DataFrame'>\n",
      "RangeIndex: 3231 entries, 0 to 3230\n",
      "Data columns (total 16 columns):\n",
      " #   Column        Non-Null Count  Dtype         \n",
      "---  ------        --------------  -----         \n",
      " 0   Date          3231 non-null   datetime64[ns]\n",
      " 1   Open          3231 non-null   float64       \n",
      " 2   High          3231 non-null   float64       \n",
      " 3   Low           3231 non-null   float64       \n",
      " 4   Close         3231 non-null   float64       \n",
      " 5   Adj Close     3231 non-null   float64       \n",
      " 6   Volume        3231 non-null   int64         \n",
      " 7   company_name  3231 non-null   object        \n",
      " 8   50D-SMA       3182 non-null   float64       \n",
      " 9   50D-EMA       3231 non-null   float64       \n",
      " 10  rsi           3217 non-null   float64       \n",
      " 11  rsicat        3231 non-null   int8          \n",
      " 12  average       3231 non-null   float64       \n",
      " 13  vwap          3231 non-null   float64       \n",
      " 14  vwap_pct_ret  3230 non-null   float64       \n",
      " 15  pvwap         3230 non-null   float64       \n",
      "dtypes: datetime64[ns](1), float64(12), int64(1), int8(1), object(1)\n",
      "memory usage: 381.9+ KB\n"
     ]
    }
   ],
   "source": [
    "df_stock.info()"
   ]
  },
  {
   "cell_type": "code",
   "execution_count": 26,
   "id": "b5c68ac0",
   "metadata": {},
   "outputs": [],
   "source": [
    "df_stock.bfill(inplace=True)\n",
    "df_stock.ffill(inplace=True)"
   ]
  },
  {
   "cell_type": "code",
   "execution_count": 27,
   "id": "62f0f011",
   "metadata": {},
   "outputs": [
    {
     "data": {
      "text/html": [
       "<div>\n",
       "<style scoped>\n",
       "    .dataframe tbody tr th:only-of-type {\n",
       "        vertical-align: middle;\n",
       "    }\n",
       "\n",
       "    .dataframe tbody tr th {\n",
       "        vertical-align: top;\n",
       "    }\n",
       "\n",
       "    .dataframe thead th {\n",
       "        text-align: right;\n",
       "    }\n",
       "</style>\n",
       "<table border=\"1\" class=\"dataframe\">\n",
       "  <thead>\n",
       "    <tr style=\"text-align: right;\">\n",
       "      <th></th>\n",
       "      <th>Date</th>\n",
       "      <th>Open</th>\n",
       "      <th>High</th>\n",
       "      <th>Low</th>\n",
       "      <th>Close</th>\n",
       "      <th>Adj Close</th>\n",
       "      <th>Volume</th>\n",
       "      <th>company_name</th>\n",
       "      <th>50D-SMA</th>\n",
       "      <th>50D-EMA</th>\n",
       "      <th>rsi</th>\n",
       "      <th>rsicat</th>\n",
       "      <th>average</th>\n",
       "      <th>vwap</th>\n",
       "      <th>vwap_pct_ret</th>\n",
       "      <th>pvwap</th>\n",
       "    </tr>\n",
       "  </thead>\n",
       "  <tbody>\n",
       "    <tr>\n",
       "      <th>3226</th>\n",
       "      <td>2022-10-26</td>\n",
       "      <td>116.000000</td>\n",
       "      <td>119.349998</td>\n",
       "      <td>114.760002</td>\n",
       "      <td>115.660004</td>\n",
       "      <td>115.660004</td>\n",
       "      <td>68802300</td>\n",
       "      <td>AMAZON</td>\n",
       "      <td>123.0188</td>\n",
       "      <td>120.415688</td>\n",
       "      <td>46.500584</td>\n",
       "      <td>1</td>\n",
       "      <td>116.590001</td>\n",
       "      <td>115.660004</td>\n",
       "      <td>-0.040962</td>\n",
       "      <td>-0.040636</td>\n",
       "    </tr>\n",
       "    <tr>\n",
       "      <th>3227</th>\n",
       "      <td>2022-10-27</td>\n",
       "      <td>113.919998</td>\n",
       "      <td>114.120003</td>\n",
       "      <td>109.769997</td>\n",
       "      <td>110.959999</td>\n",
       "      <td>110.959999</td>\n",
       "      <td>129605400</td>\n",
       "      <td>AMAZON</td>\n",
       "      <td>122.3960</td>\n",
       "      <td>120.044877</td>\n",
       "      <td>40.609601</td>\n",
       "      <td>1</td>\n",
       "      <td>111.616666</td>\n",
       "      <td>110.959999</td>\n",
       "      <td>-0.040636</td>\n",
       "      <td>-0.068042</td>\n",
       "    </tr>\n",
       "    <tr>\n",
       "      <th>3228</th>\n",
       "      <td>2022-10-28</td>\n",
       "      <td>97.910004</td>\n",
       "      <td>103.959999</td>\n",
       "      <td>97.660004</td>\n",
       "      <td>103.410004</td>\n",
       "      <td>103.410004</td>\n",
       "      <td>223133400</td>\n",
       "      <td>AMAZON</td>\n",
       "      <td>121.6182</td>\n",
       "      <td>119.392529</td>\n",
       "      <td>33.309477</td>\n",
       "      <td>1</td>\n",
       "      <td>101.676669</td>\n",
       "      <td>103.410004</td>\n",
       "      <td>-0.068042</td>\n",
       "      <td>-0.009380</td>\n",
       "    </tr>\n",
       "    <tr>\n",
       "      <th>3229</th>\n",
       "      <td>2022-10-31</td>\n",
       "      <td>103.559998</td>\n",
       "      <td>104.870003</td>\n",
       "      <td>100.739998</td>\n",
       "      <td>102.440002</td>\n",
       "      <td>102.440002</td>\n",
       "      <td>99251400</td>\n",
       "      <td>AMAZON</td>\n",
       "      <td>120.9024</td>\n",
       "      <td>118.727724</td>\n",
       "      <td>32.501108</td>\n",
       "      <td>1</td>\n",
       "      <td>102.683334</td>\n",
       "      <td>102.440002</td>\n",
       "      <td>-0.009380</td>\n",
       "      <td>-0.055154</td>\n",
       "    </tr>\n",
       "    <tr>\n",
       "      <th>3230</th>\n",
       "      <td>2022-11-01</td>\n",
       "      <td>103.989998</td>\n",
       "      <td>104.580002</td>\n",
       "      <td>96.059998</td>\n",
       "      <td>96.790001</td>\n",
       "      <td>96.790001</td>\n",
       "      <td>153370000</td>\n",
       "      <td>AMAZON</td>\n",
       "      <td>120.1738</td>\n",
       "      <td>117.867421</td>\n",
       "      <td>28.207111</td>\n",
       "      <td>1</td>\n",
       "      <td>99.143333</td>\n",
       "      <td>96.790001</td>\n",
       "      <td>-0.055154</td>\n",
       "      <td>-0.055154</td>\n",
       "    </tr>\n",
       "  </tbody>\n",
       "</table>\n",
       "</div>"
      ],
      "text/plain": [
       "           Date        Open        High         Low       Close   Adj Close  \\\n",
       "3226 2022-10-26  116.000000  119.349998  114.760002  115.660004  115.660004   \n",
       "3227 2022-10-27  113.919998  114.120003  109.769997  110.959999  110.959999   \n",
       "3228 2022-10-28   97.910004  103.959999   97.660004  103.410004  103.410004   \n",
       "3229 2022-10-31  103.559998  104.870003  100.739998  102.440002  102.440002   \n",
       "3230 2022-11-01  103.989998  104.580002   96.059998   96.790001   96.790001   \n",
       "\n",
       "         Volume company_name   50D-SMA     50D-EMA        rsi  rsicat  \\\n",
       "3226   68802300       AMAZON  123.0188  120.415688  46.500584       1   \n",
       "3227  129605400       AMAZON  122.3960  120.044877  40.609601       1   \n",
       "3228  223133400       AMAZON  121.6182  119.392529  33.309477       1   \n",
       "3229   99251400       AMAZON  120.9024  118.727724  32.501108       1   \n",
       "3230  153370000       AMAZON  120.1738  117.867421  28.207111       1   \n",
       "\n",
       "         average        vwap  vwap_pct_ret     pvwap  \n",
       "3226  116.590001  115.660004     -0.040962 -0.040636  \n",
       "3227  111.616666  110.959999     -0.040636 -0.068042  \n",
       "3228  101.676669  103.410004     -0.068042 -0.009380  \n",
       "3229  102.683334  102.440002     -0.009380 -0.055154  \n",
       "3230   99.143333   96.790001     -0.055154 -0.055154  "
      ]
     },
     "execution_count": 27,
     "metadata": {},
     "output_type": "execute_result"
    }
   ],
   "source": [
    "#df_left = df_stock.iloc[:-100]\n",
    "df_stock.tail()"
   ]
  },
  {
   "cell_type": "code",
   "execution_count": 28,
   "id": "5ae7628e",
   "metadata": {},
   "outputs": [
    {
     "data": {
      "text/html": [
       "<div>\n",
       "<style scoped>\n",
       "    .dataframe tbody tr th:only-of-type {\n",
       "        vertical-align: middle;\n",
       "    }\n",
       "\n",
       "    .dataframe tbody tr th {\n",
       "        vertical-align: top;\n",
       "    }\n",
       "\n",
       "    .dataframe thead th {\n",
       "        text-align: right;\n",
       "    }\n",
       "</style>\n",
       "<table border=\"1\" class=\"dataframe\">\n",
       "  <thead>\n",
       "    <tr style=\"text-align: right;\">\n",
       "      <th></th>\n",
       "      <th>Date</th>\n",
       "      <th>Open</th>\n",
       "      <th>High</th>\n",
       "      <th>Low</th>\n",
       "      <th>Close</th>\n",
       "      <th>Adj Close</th>\n",
       "      <th>Volume</th>\n",
       "      <th>company_name</th>\n",
       "    </tr>\n",
       "  </thead>\n",
       "  <tbody>\n",
       "    <tr>\n",
       "      <th>3231</th>\n",
       "      <td>2022-11-02</td>\n",
       "      <td>97.320000</td>\n",
       "      <td>97.739998</td>\n",
       "      <td>92.010002</td>\n",
       "      <td>92.120003</td>\n",
       "      <td>92.120003</td>\n",
       "      <td>135761800</td>\n",
       "      <td>AMAZON</td>\n",
       "    </tr>\n",
       "    <tr>\n",
       "      <th>3232</th>\n",
       "      <td>2022-11-03</td>\n",
       "      <td>92.470001</td>\n",
       "      <td>93.500000</td>\n",
       "      <td>89.019997</td>\n",
       "      <td>89.300003</td>\n",
       "      <td>89.300003</td>\n",
       "      <td>136683300</td>\n",
       "      <td>AMAZON</td>\n",
       "    </tr>\n",
       "    <tr>\n",
       "      <th>3233</th>\n",
       "      <td>2022-11-04</td>\n",
       "      <td>91.489998</td>\n",
       "      <td>92.440002</td>\n",
       "      <td>88.040001</td>\n",
       "      <td>90.980003</td>\n",
       "      <td>90.980003</td>\n",
       "      <td>129101300</td>\n",
       "      <td>AMAZON</td>\n",
       "    </tr>\n",
       "    <tr>\n",
       "      <th>3234</th>\n",
       "      <td>2022-11-07</td>\n",
       "      <td>91.949997</td>\n",
       "      <td>92.099998</td>\n",
       "      <td>89.040001</td>\n",
       "      <td>90.529999</td>\n",
       "      <td>90.529999</td>\n",
       "      <td>77495700</td>\n",
       "      <td>AMAZON</td>\n",
       "    </tr>\n",
       "    <tr>\n",
       "      <th>3235</th>\n",
       "      <td>2022-11-08</td>\n",
       "      <td>90.790001</td>\n",
       "      <td>91.720001</td>\n",
       "      <td>88.230003</td>\n",
       "      <td>89.980003</td>\n",
       "      <td>89.980003</td>\n",
       "      <td>88703400</td>\n",
       "      <td>AMAZON</td>\n",
       "    </tr>\n",
       "  </tbody>\n",
       "</table>\n",
       "</div>"
      ],
      "text/plain": [
       "           Date       Open       High        Low      Close  Adj Close  \\\n",
       "3231 2022-11-02  97.320000  97.739998  92.010002  92.120003  92.120003   \n",
       "3232 2022-11-03  92.470001  93.500000  89.019997  89.300003  89.300003   \n",
       "3233 2022-11-04  91.489998  92.440002  88.040001  90.980003  90.980003   \n",
       "3234 2022-11-07  91.949997  92.099998  89.040001  90.529999  90.529999   \n",
       "3235 2022-11-08  90.790001  91.720001  88.230003  89.980003  89.980003   \n",
       "\n",
       "         Volume company_name  \n",
       "3231  135761800       AMAZON  \n",
       "3232  136683300       AMAZON  \n",
       "3233  129101300       AMAZON  \n",
       "3234   77495700       AMAZON  \n",
       "3235   88703400       AMAZON  "
      ]
     },
     "execution_count": 28,
     "metadata": {},
     "output_type": "execute_result"
    }
   ],
   "source": [
    "df_left.head()"
   ]
  },
  {
   "cell_type": "code",
   "execution_count": 11,
   "id": "2e4b659b",
   "metadata": {},
   "outputs": [],
   "source": [
    "# Removing last n rows\n",
    "#df_dropped_last_n = df.iloc[:-100]\n",
    " "
   ]
  },
  {
   "cell_type": "code",
   "execution_count": 12,
   "id": "9db7ae50",
   "metadata": {},
   "outputs": [
    {
     "data": {
      "text/plain": [
       "Index(['Date', 'Open', 'High', 'Low', 'Close', 'Adj Close', 'Volume',\n",
       "       'company_name', '50D-SMA', '50D-EMA', 'rsi', 'rsicat', 'average',\n",
       "       'vwap', 'vwap_pct_ret', 'pvwap'],\n",
       "      dtype='object')"
      ]
     },
     "execution_count": 12,
     "metadata": {},
     "output_type": "execute_result"
    }
   ],
   "source": [
    "df_stock.columns"
   ]
  },
  {
   "cell_type": "code",
   "execution_count": 29,
   "id": "b47577f8",
   "metadata": {},
   "outputs": [],
   "source": [
    "features = ['Close','50D-SMA','50D-EMA','rsi','vwap']\n",
    "x = df_stock[features]\n",
    "scaler = MinMaxScaler(feature_range=(0, 1))\n",
    "x = scaler.fit_transform(x)"
   ]
  },
  {
   "cell_type": "code",
   "execution_count": 30,
   "id": "ef6ccd60",
   "metadata": {},
   "outputs": [],
   "source": [
    "y = df_stock['Close'].fillna(method='ffill')\n",
    "y = y.values.reshape(-1, 1)\n",
    "\n",
    "# scale the data\n",
    "scaler = MinMaxScaler(feature_range=(0, 1))\n",
    "scaler = scaler.fit(y)\n",
    "y = scaler.transform(y)"
   ]
  },
  {
   "cell_type": "code",
   "execution_count": 31,
   "id": "d4063d48",
   "metadata": {},
   "outputs": [],
   "source": [
    "f_len = len(features)"
   ]
  },
  {
   "cell_type": "code",
   "execution_count": 32,
   "id": "6b76559f",
   "metadata": {},
   "outputs": [
    {
     "name": "stdout",
     "output_type": "stream",
     "text": [
      "Epoch 1/3\n",
      "84/84 [==============================] - 42s 500ms/step - loss: 0.0375\n",
      "Epoch 2/3\n",
      "84/84 [==============================] - 49s 587ms/step - loss: 0.0030\n",
      "Epoch 3/3\n",
      "84/84 [==============================] - 50s 593ms/step - loss: 0.0026\n"
     ]
    },
    {
     "data": {
      "text/plain": [
       "<tensorflow.python.keras.callbacks.History at 0x1fc0b635c10>"
      ]
     },
     "execution_count": 32,
     "metadata": {},
     "output_type": "execute_result"
    }
   ],
   "source": [
    "%run stock_utils.py\n",
    "a,b = create_train_test_windows(x,y,n_lookback,n_forecast)\n",
    "stock_model = create_model(n_lookback,n_forecast,f_len,model_type='LSTM')\n",
    "stock_model.fit(a, b, epochs=3, batch_size=32)\n"
   ]
  },
  {
   "cell_type": "code",
   "execution_count": null,
   "id": "45d06b04",
   "metadata": {},
   "outputs": [],
   "source": [
    "#stock_model = tf.keras.models.load_model('saved_models/AAPL_7day_model')"
   ]
  },
  {
   "cell_type": "code",
   "execution_count": 33,
   "id": "516d7980",
   "metadata": {},
   "outputs": [],
   "source": [
    "%run stock_utils.py\n",
    "df_f,df_p = make_future_dataframe(df_stock,x,y,n_lookback,n_forecast,stock_model,scaler,features,f_len)"
   ]
  },
  {
   "cell_type": "code",
   "execution_count": null,
   "id": "585c0f76",
   "metadata": {},
   "outputs": [],
   "source": [
    "df_p.tail()"
   ]
  },
  {
   "cell_type": "code",
   "execution_count": null,
   "id": "e4d48f8b",
   "metadata": {},
   "outputs": [],
   "source": [
    "df_f.head()"
   ]
  },
  {
   "cell_type": "code",
   "execution_count": null,
   "id": "354e9e31",
   "metadata": {},
   "outputs": [],
   "source": [
    "df_left.head()"
   ]
  },
  {
   "cell_type": "code",
   "execution_count": null,
   "id": "53ba361c",
   "metadata": {},
   "outputs": [],
   "source": [
    "import matplotlib.pyplot as plt\n",
    "df_left['Forecast'] = df_f['Forecast']\n",
    "df_left.plot(x='Date',y=['Forecast','Close'])"
   ]
  },
  {
   "cell_type": "code",
   "execution_count": 34,
   "id": "e59ffdc6",
   "metadata": {},
   "outputs": [
    {
     "data": {
      "text/plain": [
       "26.998868330242665"
      ]
     },
     "execution_count": 34,
     "metadata": {},
     "output_type": "execute_result"
    }
   ],
   "source": [
    "rmse = np.sqrt(np.mean(((np.array(df_f['Forecast'])- np.array(df_left['Close'])) ** 2)))\n",
    "rmse"
   ]
  },
  {
   "cell_type": "code",
   "execution_count": 35,
   "id": "1f91e14d",
   "metadata": {},
   "outputs": [
    {
     "name": "stdout",
     "output_type": "stream",
     "text": [
      "0.292809781361314\n",
      "26.505560811360677\n"
     ]
    }
   ],
   "source": [
    "from sklearn.metrics import mean_absolute_percentage_error,mean_absolute_error\n",
    "print(mean_absolute_percentage_error(np.array(df_left['Close']), np.array(df_f['Forecast'])))\n",
    "print(mean_absolute_error(np.array(df_left['Close']), np.array(df_f['Forecast'])))"
   ]
  },
  {
   "cell_type": "code",
   "execution_count": null,
   "id": "37ac113e",
   "metadata": {},
   "outputs": [],
   "source": [
    "#stock_model.save('saved_models/AMZN_30day_model')\n",
    "stock_model = tf.keras.models.load_model('saved_models/AMZN_30day_model')"
   ]
  },
  {
   "cell_type": "code",
   "execution_count": 38,
   "id": "674cfdc4",
   "metadata": {},
   "outputs": [
    {
     "data": {
      "image/png": "[encoded data removed]",
      "text/plain": [
       "<IPython.core.display.Image object>"
      ]
     },
     "execution_count": 38,
     "metadata": {},
     "output_type": "execute_result"
    }
   ],
   "source": [
    "ifile = 'model_archs/AMZN_30day_model.png'\n",
    "tf.keras.utils.plot_model(stock_model, to_file = ifile, show_shapes = True, show_layer_names = True)"
   ]
  },
  {
   "cell_type": "code",
   "execution_count": null,
   "id": "cd55469b",
   "metadata": {},
   "outputs": [],
   "source": [
    "#df = df.reset_index()"
   ]
  },
  {
   "cell_type": "code",
   "execution_count": null,
   "id": "c82d45f7",
   "metadata": {},
   "outputs": [],
   "source": [
    "#df_Actual = df.loc[(df['Date']>='2022-08-23')&(df['Date']<='2022-10-11')]"
   ]
  },
  {
   "cell_type": "code",
   "execution_count": null,
   "id": "61b9116c",
   "metadata": {},
   "outputs": [],
   "source": [
    "#df_Actual.head(36)"
   ]
  },
  {
   "cell_type": "code",
   "execution_count": null,
   "id": "5a6a537c",
   "metadata": {},
   "outputs": [],
   "source": [
    "#new_df = pd.merge(df_Actual, df_future,  how='inner',on='Date')"
   ]
  },
  {
   "cell_type": "code",
   "execution_count": null,
   "id": "8cc8dc3e",
   "metadata": {},
   "outputs": [],
   "source": [
    "#new_df.head(36)"
   ]
  },
  {
   "cell_type": "code",
   "execution_count": null,
   "id": "3fd4eedd",
   "metadata": {},
   "outputs": [],
   "source": [
    "#df_future = df_future[df_future.Date.dt.weekday < 5]"
   ]
  },
  {
   "cell_type": "code",
   "execution_count": null,
   "id": "d1032e71",
   "metadata": {},
   "outputs": [],
   "source": [
    "#from sklearn.metrics import mean_squared_error\n",
    "#mean_squared_error(np.array(new_df['Close']),np.array(new_df['Forecast']))\n",
    "#df_future.head(5)"
   ]
  },
  {
   "cell_type": "code",
   "execution_count": null,
   "id": "8453decc",
   "metadata": {},
   "outputs": [],
   "source": [
    "#df_Actual.shape"
   ]
  },
  {
   "cell_type": "code",
   "execution_count": null,
   "id": "23df6989",
   "metadata": {},
   "outputs": [],
   "source": [
    "#rmse = np.sqrt(np.mean(((np.array(df_future['Forecast'])- np.array(df_Actual['Close'])) ** 2)))\n",
    "#rmse"
   ]
  },
  {
   "cell_type": "code",
   "execution_count": null,
   "id": "f34435a9",
   "metadata": {},
   "outputs": [],
   "source": [
    "#results = df_past.append(df_future).set_index('Date')\n",
    "\n",
    "# plot the results\n",
    "#results.plot(title='AAPL')"
   ]
  },
  {
   "cell_type": "code",
   "execution_count": null,
   "id": "ca232940",
   "metadata": {},
   "outputs": [],
   "source": []
  }
 ],
 "metadata": {
  "kernelspec": {
   "display_name": "Python 3 (ipykernel)",
   "language": "python",
   "name": "python3"
  },
  "language_info": {
   "codemirror_mode": {
    "name": "ipython",
    "version": 3
   },
   "file_extension": ".py",
   "mimetype": "text/x-python",
   "name": "python",
   "nbconvert_exporter": "python",
   "pygments_lexer": "ipython3",
   "version": "3.8.8"
  }
 },
 "nbformat": 4,
 "nbformat_minor": 5
}
