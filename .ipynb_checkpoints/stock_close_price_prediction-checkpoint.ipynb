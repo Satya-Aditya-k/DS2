{
 "cells": [
  {
   "cell_type": "code",
   "execution_count": 1,
   "id": "21be4a1d",
   "metadata": {},
   "outputs": [
    {
     "name": "stderr",
     "output_type": "stream",
     "text": [
      "C:\\Users\\adity\\Anaconda3\\lib\\site-packages\\numpy\\_distributor_init.py:30: UserWarning: loaded more than 1 DLL from .libs:\n",
      "C:\\Users\\adity\\Anaconda3\\lib\\site-packages\\numpy\\.libs\\libopenblas.PYQHXLVVQ7VESDPUVUADXEVJOBGHJPAY.gfortran-win_amd64.dll\n",
      "C:\\Users\\adity\\Anaconda3\\lib\\site-packages\\numpy\\.libs\\libopenblas.WCDJNK7YVMPZQ2ME2ZZHJJRJ3JIKNDB7.gfortran-win_amd64.dll\n",
      "  warnings.warn(\"loaded more than 1 DLL from .libs:\"\n"
     ]
    }
   ],
   "source": [
    "import numpy as np\n",
    "import pandas as pd\n",
    "import yfinance as yf\n",
    "import tensorflow as tf\n",
    "from tensorflow.keras.layers import Dense, LSTM\n",
    "from tensorflow.keras.models import Sequential\n",
    "from sklearn.preprocessing import MinMaxScaler\n",
    "pd.options.mode.chained_assignment = None\n",
    "tf.random.set_seed(0)\n",
    "from stock_utils import *"
   ]
  },
  {
   "cell_type": "code",
   "execution_count": 2,
   "id": "1758d027",
   "metadata": {},
   "outputs": [],
   "source": [
    "def RSI(series, period):\n",
    "    \n",
    "    delta = series.diff().dropna()\n",
    "    u = delta * 0\n",
    "    d = u.copy()\n",
    "    u[delta > 0] = delta[delta > 0]\n",
    "    d[delta < 0] = -delta[delta < 0]\n",
    "    u[u.index[period-1]] = np.mean( u[:period] ) #first value is sum of avg gains\n",
    "    u = u.drop(u.index[:(period-1)])\n",
    "    d[d.index[period-1]] = np.mean( d[:period] ) #first value is sum of avg losses\n",
    "    d = d.drop(d.index[:(period-1)])\n",
    "    rs = pd.DataFrame.ewm(u, com=period-1, adjust=False).mean() / \\\n",
    "         pd.DataFrame.ewm(d, com=period-1, adjust=False).mean()\n",
    "    \n",
    "    return 100 - 100 / (1 + rs)\n",
    "\n",
    "\n",
    "def rsi_class(x):\n",
    "    ret = \"low\"\n",
    "    if x < 50:\n",
    "        ret = \"low\"\n",
    "    if x > 50:\n",
    "        ret = \"med\"\n",
    "    if x > 70:\n",
    "        ret = \"high\"\n",
    "    return(ret)"
   ]
  },
  {
   "cell_type": "code",
   "execution_count": 3,
   "id": "22618788",
   "metadata": {},
   "outputs": [
    {
     "name": "stdout",
     "output_type": "stream",
     "text": [
      "[*********************100%***********************]  1 of 1 completed\n",
      "[*********************100%***********************]  1 of 1 completed\n",
      "[*********************100%***********************]  1 of 1 completed\n"
     ]
    },
    {
     "data": {
      "text/html": [
       "<div>\n",
       "<style scoped>\n",
       "    .dataframe tbody tr th:only-of-type {\n",
       "        vertical-align: middle;\n",
       "    }\n",
       "\n",
       "    .dataframe tbody tr th {\n",
       "        vertical-align: top;\n",
       "    }\n",
       "\n",
       "    .dataframe thead th {\n",
       "        text-align: right;\n",
       "    }\n",
       "</style>\n",
       "<table border=\"1\" class=\"dataframe\">\n",
       "  <thead>\n",
       "    <tr style=\"text-align: right;\">\n",
       "      <th></th>\n",
       "      <th>Open</th>\n",
       "      <th>High</th>\n",
       "      <th>Low</th>\n",
       "      <th>Close</th>\n",
       "      <th>Adj Close</th>\n",
       "      <th>Volume</th>\n",
       "      <th>company_name</th>\n",
       "    </tr>\n",
       "    <tr>\n",
       "      <th>Date</th>\n",
       "      <th></th>\n",
       "      <th></th>\n",
       "      <th></th>\n",
       "      <th></th>\n",
       "      <th></th>\n",
       "      <th></th>\n",
       "      <th></th>\n",
       "    </tr>\n",
       "  </thead>\n",
       "  <tbody>\n",
       "    <tr>\n",
       "      <th>2010-01-04</th>\n",
       "      <td>7.622500</td>\n",
       "      <td>7.660714</td>\n",
       "      <td>7.585000</td>\n",
       "      <td>7.643214</td>\n",
       "      <td>6.515213</td>\n",
       "      <td>493729600</td>\n",
       "      <td>APPLE</td>\n",
       "    </tr>\n",
       "    <tr>\n",
       "      <th>2010-01-05</th>\n",
       "      <td>7.664286</td>\n",
       "      <td>7.699643</td>\n",
       "      <td>7.616071</td>\n",
       "      <td>7.656429</td>\n",
       "      <td>6.526477</td>\n",
       "      <td>601904800</td>\n",
       "      <td>APPLE</td>\n",
       "    </tr>\n",
       "    <tr>\n",
       "      <th>2010-01-06</th>\n",
       "      <td>7.656429</td>\n",
       "      <td>7.686786</td>\n",
       "      <td>7.526786</td>\n",
       "      <td>7.534643</td>\n",
       "      <td>6.422665</td>\n",
       "      <td>552160000</td>\n",
       "      <td>APPLE</td>\n",
       "    </tr>\n",
       "    <tr>\n",
       "      <th>2010-01-07</th>\n",
       "      <td>7.562500</td>\n",
       "      <td>7.571429</td>\n",
       "      <td>7.466071</td>\n",
       "      <td>7.520714</td>\n",
       "      <td>6.410791</td>\n",
       "      <td>477131200</td>\n",
       "      <td>APPLE</td>\n",
       "    </tr>\n",
       "    <tr>\n",
       "      <th>2010-01-08</th>\n",
       "      <td>7.510714</td>\n",
       "      <td>7.571429</td>\n",
       "      <td>7.466429</td>\n",
       "      <td>7.570714</td>\n",
       "      <td>6.453411</td>\n",
       "      <td>447610800</td>\n",
       "      <td>APPLE</td>\n",
       "    </tr>\n",
       "    <tr>\n",
       "      <th>2010-01-11</th>\n",
       "      <td>7.600000</td>\n",
       "      <td>7.607143</td>\n",
       "      <td>7.444643</td>\n",
       "      <td>7.503929</td>\n",
       "      <td>6.396483</td>\n",
       "      <td>462229600</td>\n",
       "      <td>APPLE</td>\n",
       "    </tr>\n",
       "    <tr>\n",
       "      <th>2010-01-12</th>\n",
       "      <td>7.471071</td>\n",
       "      <td>7.491786</td>\n",
       "      <td>7.372143</td>\n",
       "      <td>7.418571</td>\n",
       "      <td>6.323722</td>\n",
       "      <td>594459600</td>\n",
       "      <td>APPLE</td>\n",
       "    </tr>\n",
       "    <tr>\n",
       "      <th>2010-01-13</th>\n",
       "      <td>7.423929</td>\n",
       "      <td>7.533214</td>\n",
       "      <td>7.289286</td>\n",
       "      <td>7.523214</td>\n",
       "      <td>6.412921</td>\n",
       "      <td>605892000</td>\n",
       "      <td>APPLE</td>\n",
       "    </tr>\n",
       "    <tr>\n",
       "      <th>2010-01-14</th>\n",
       "      <td>7.503929</td>\n",
       "      <td>7.516429</td>\n",
       "      <td>7.465000</td>\n",
       "      <td>7.479643</td>\n",
       "      <td>6.375781</td>\n",
       "      <td>432894000</td>\n",
       "      <td>APPLE</td>\n",
       "    </tr>\n",
       "    <tr>\n",
       "      <th>2010-01-15</th>\n",
       "      <td>7.533214</td>\n",
       "      <td>7.557143</td>\n",
       "      <td>7.352500</td>\n",
       "      <td>7.354643</td>\n",
       "      <td>6.269227</td>\n",
       "      <td>594067600</td>\n",
       "      <td>APPLE</td>\n",
       "    </tr>\n",
       "  </tbody>\n",
       "</table>\n",
       "</div>"
      ],
      "text/plain": [
       "                Open      High       Low     Close  Adj Close     Volume  \\\n",
       "Date                                                                       \n",
       "2010-01-04  7.622500  7.660714  7.585000  7.643214   6.515213  493729600   \n",
       "2010-01-05  7.664286  7.699643  7.616071  7.656429   6.526477  601904800   \n",
       "2010-01-06  7.656429  7.686786  7.526786  7.534643   6.422665  552160000   \n",
       "2010-01-07  7.562500  7.571429  7.466071  7.520714   6.410791  477131200   \n",
       "2010-01-08  7.510714  7.571429  7.466429  7.570714   6.453411  447610800   \n",
       "2010-01-11  7.600000  7.607143  7.444643  7.503929   6.396483  462229600   \n",
       "2010-01-12  7.471071  7.491786  7.372143  7.418571   6.323722  594459600   \n",
       "2010-01-13  7.423929  7.533214  7.289286  7.523214   6.412921  605892000   \n",
       "2010-01-14  7.503929  7.516429  7.465000  7.479643   6.375781  432894000   \n",
       "2010-01-15  7.533214  7.557143  7.352500  7.354643   6.269227  594067600   \n",
       "\n",
       "           company_name  \n",
       "Date                     \n",
       "2010-01-04        APPLE  \n",
       "2010-01-05        APPLE  \n",
       "2010-01-06        APPLE  \n",
       "2010-01-07        APPLE  \n",
       "2010-01-08        APPLE  \n",
       "2010-01-11        APPLE  \n",
       "2010-01-12        APPLE  \n",
       "2010-01-13        APPLE  \n",
       "2010-01-14        APPLE  \n",
       "2010-01-15        APPLE  "
      ]
     },
     "execution_count": 3,
     "metadata": {},
     "output_type": "execute_result"
    }
   ],
   "source": [
    "from datetime import datetime\n",
    "tech_list = ['AAPL', 'GOOG', 'AMZN']\n",
    "\n",
    "start = \"2010-01-01\"\n",
    "end = datetime.now()\n",
    "for stock in tech_list:\n",
    "    globals()[stock] = yf.download(stock, start, end)\n",
    "    \n",
    "company_list = [AAPL, GOOG, AMZN]\n",
    "company_name = [\"APPLE\", \"GOOGLE\", \"AMAZON\"]\n",
    "\n",
    "for company, com_name in zip(company_list, company_name):\n",
    "    company[\"company_name\"] = com_name\n",
    "    \n",
    "df = pd.concat(company_list, axis=0)\n",
    "df.head(10)"
   ]
  },
  {
   "cell_type": "code",
   "execution_count": 126,
   "id": "ca2e11d5",
   "metadata": {},
   "outputs": [],
   "source": [
    "n_lookback = 500\n",
    "n_forecast = 60\n",
    "df_stock = AMZN.reset_index().copy()"
   ]
  },
  {
   "cell_type": "code",
   "execution_count": 127,
   "id": "f808bc6b",
   "metadata": {},
   "outputs": [],
   "source": [
    "df_stock, df_left = create_backtest_frames(df_stock,n_lookback,n_forecast)"
   ]
  },
  {
   "cell_type": "code",
   "execution_count": 128,
   "id": "3ade467b",
   "metadata": {},
   "outputs": [],
   "source": [
    "df_stock = feature_creation(df_stock)"
   ]
  },
  {
   "cell_type": "code",
   "execution_count": 129,
   "id": "562e6019",
   "metadata": {},
   "outputs": [
    {
     "name": "stdout",
     "output_type": "stream",
     "text": [
      "<class 'pandas.core.frame.DataFrame'>\n",
      "RangeIndex: 3230 entries, 0 to 3229\n",
      "Data columns (total 16 columns):\n",
      " #   Column        Non-Null Count  Dtype         \n",
      "---  ------        --------------  -----         \n",
      " 0   Date          3230 non-null   datetime64[ns]\n",
      " 1   Open          3230 non-null   float64       \n",
      " 2   High          3230 non-null   float64       \n",
      " 3   Low           3230 non-null   float64       \n",
      " 4   Close         3230 non-null   float64       \n",
      " 5   Adj Close     3230 non-null   float64       \n",
      " 6   Volume        3230 non-null   int64         \n",
      " 7   company_name  3230 non-null   object        \n",
      " 8   50D-SMA       3181 non-null   float64       \n",
      " 9   50D-EMA       3230 non-null   float64       \n",
      " 10  rsi           3216 non-null   float64       \n",
      " 11  rsicat        3230 non-null   int8          \n",
      " 12  average       3230 non-null   float64       \n",
      " 13  vwap          3230 non-null   float64       \n",
      " 14  vwap_pct_ret  3229 non-null   float64       \n",
      " 15  pvwap         3229 non-null   float64       \n",
      "dtypes: datetime64[ns](1), float64(12), int64(1), int8(1), object(1)\n",
      "memory usage: 381.8+ KB\n"
     ]
    }
   ],
   "source": [
    "df_stock.info()"
   ]
  },
  {
   "cell_type": "code",
   "execution_count": 130,
   "id": "b5c68ac0",
   "metadata": {},
   "outputs": [],
   "source": [
    "df_stock.bfill(inplace=True)\n",
    "df_stock.ffill(inplace=True)"
   ]
  },
  {
   "cell_type": "code",
   "execution_count": 131,
   "id": "62f0f011",
   "metadata": {},
   "outputs": [
    {
     "data": {
      "text/html": [
       "<div>\n",
       "<style scoped>\n",
       "    .dataframe tbody tr th:only-of-type {\n",
       "        vertical-align: middle;\n",
       "    }\n",
       "\n",
       "    .dataframe tbody tr th {\n",
       "        vertical-align: top;\n",
       "    }\n",
       "\n",
       "    .dataframe thead th {\n",
       "        text-align: right;\n",
       "    }\n",
       "</style>\n",
       "<table border=\"1\" class=\"dataframe\">\n",
       "  <thead>\n",
       "    <tr style=\"text-align: right;\">\n",
       "      <th></th>\n",
       "      <th>Date</th>\n",
       "      <th>Open</th>\n",
       "      <th>High</th>\n",
       "      <th>Low</th>\n",
       "      <th>Close</th>\n",
       "      <th>Adj Close</th>\n",
       "      <th>Volume</th>\n",
       "      <th>company_name</th>\n",
       "      <th>50D-SMA</th>\n",
       "      <th>50D-EMA</th>\n",
       "      <th>rsi</th>\n",
       "      <th>rsicat</th>\n",
       "      <th>average</th>\n",
       "      <th>vwap</th>\n",
       "      <th>vwap_pct_ret</th>\n",
       "      <th>pvwap</th>\n",
       "    </tr>\n",
       "  </thead>\n",
       "  <tbody>\n",
       "    <tr>\n",
       "      <th>3225</th>\n",
       "      <td>2022-10-25</td>\n",
       "      <td>119.650002</td>\n",
       "      <td>121.320000</td>\n",
       "      <td>118.949997</td>\n",
       "      <td>120.599998</td>\n",
       "      <td>120.599998</td>\n",
       "      <td>50934600</td>\n",
       "      <td>AMAZON</td>\n",
       "      <td>123.6012</td>\n",
       "      <td>120.609798</td>\n",
       "      <td>54.169981</td>\n",
       "      <td>2</td>\n",
       "      <td>120.289998</td>\n",
       "      <td>120.599998</td>\n",
       "      <td>0.006510</td>\n",
       "      <td>-0.040962</td>\n",
       "    </tr>\n",
       "    <tr>\n",
       "      <th>3226</th>\n",
       "      <td>2022-10-26</td>\n",
       "      <td>116.000000</td>\n",
       "      <td>119.349998</td>\n",
       "      <td>114.760002</td>\n",
       "      <td>115.660004</td>\n",
       "      <td>115.660004</td>\n",
       "      <td>68802300</td>\n",
       "      <td>AMAZON</td>\n",
       "      <td>123.0188</td>\n",
       "      <td>120.415688</td>\n",
       "      <td>46.500584</td>\n",
       "      <td>1</td>\n",
       "      <td>116.590001</td>\n",
       "      <td>115.660004</td>\n",
       "      <td>-0.040962</td>\n",
       "      <td>-0.040636</td>\n",
       "    </tr>\n",
       "    <tr>\n",
       "      <th>3227</th>\n",
       "      <td>2022-10-27</td>\n",
       "      <td>113.919998</td>\n",
       "      <td>114.120003</td>\n",
       "      <td>109.769997</td>\n",
       "      <td>110.959999</td>\n",
       "      <td>110.959999</td>\n",
       "      <td>129605400</td>\n",
       "      <td>AMAZON</td>\n",
       "      <td>122.3960</td>\n",
       "      <td>120.044877</td>\n",
       "      <td>40.609601</td>\n",
       "      <td>1</td>\n",
       "      <td>111.616666</td>\n",
       "      <td>110.959999</td>\n",
       "      <td>-0.040636</td>\n",
       "      <td>-0.068042</td>\n",
       "    </tr>\n",
       "    <tr>\n",
       "      <th>3228</th>\n",
       "      <td>2022-10-28</td>\n",
       "      <td>97.910004</td>\n",
       "      <td>103.959999</td>\n",
       "      <td>97.660004</td>\n",
       "      <td>103.410004</td>\n",
       "      <td>103.410004</td>\n",
       "      <td>223133400</td>\n",
       "      <td>AMAZON</td>\n",
       "      <td>121.6182</td>\n",
       "      <td>119.392529</td>\n",
       "      <td>33.309477</td>\n",
       "      <td>1</td>\n",
       "      <td>101.676669</td>\n",
       "      <td>103.410004</td>\n",
       "      <td>-0.068042</td>\n",
       "      <td>-0.009380</td>\n",
       "    </tr>\n",
       "    <tr>\n",
       "      <th>3229</th>\n",
       "      <td>2022-10-31</td>\n",
       "      <td>103.559998</td>\n",
       "      <td>104.870003</td>\n",
       "      <td>100.739998</td>\n",
       "      <td>102.440002</td>\n",
       "      <td>102.440002</td>\n",
       "      <td>99251400</td>\n",
       "      <td>AMAZON</td>\n",
       "      <td>120.9024</td>\n",
       "      <td>118.727724</td>\n",
       "      <td>32.501108</td>\n",
       "      <td>1</td>\n",
       "      <td>102.683334</td>\n",
       "      <td>102.440002</td>\n",
       "      <td>-0.009380</td>\n",
       "      <td>-0.009380</td>\n",
       "    </tr>\n",
       "  </tbody>\n",
       "</table>\n",
       "</div>"
      ],
      "text/plain": [
       "           Date        Open        High         Low       Close   Adj Close  \\\n",
       "3225 2022-10-25  119.650002  121.320000  118.949997  120.599998  120.599998   \n",
       "3226 2022-10-26  116.000000  119.349998  114.760002  115.660004  115.660004   \n",
       "3227 2022-10-27  113.919998  114.120003  109.769997  110.959999  110.959999   \n",
       "3228 2022-10-28   97.910004  103.959999   97.660004  103.410004  103.410004   \n",
       "3229 2022-10-31  103.559998  104.870003  100.739998  102.440002  102.440002   \n",
       "\n",
       "         Volume company_name   50D-SMA     50D-EMA        rsi  rsicat  \\\n",
       "3225   50934600       AMAZON  123.6012  120.609798  54.169981       2   \n",
       "3226   68802300       AMAZON  123.0188  120.415688  46.500584       1   \n",
       "3227  129605400       AMAZON  122.3960  120.044877  40.609601       1   \n",
       "3228  223133400       AMAZON  121.6182  119.392529  33.309477       1   \n",
       "3229   99251400       AMAZON  120.9024  118.727724  32.501108       1   \n",
       "\n",
       "         average        vwap  vwap_pct_ret     pvwap  \n",
       "3225  120.289998  120.599998      0.006510 -0.040962  \n",
       "3226  116.590001  115.660004     -0.040962 -0.040636  \n",
       "3227  111.616666  110.959999     -0.040636 -0.068042  \n",
       "3228  101.676669  103.410004     -0.068042 -0.009380  \n",
       "3229  102.683334  102.440002     -0.009380 -0.009380  "
      ]
     },
     "execution_count": 131,
     "metadata": {},
     "output_type": "execute_result"
    }
   ],
   "source": [
    "#df_left = df_stock.iloc[:-100]\n",
    "df_stock.tail()"
   ]
  },
  {
   "cell_type": "code",
   "execution_count": 132,
   "id": "5ae7628e",
   "metadata": {},
   "outputs": [
    {
     "data": {
      "text/html": [
       "<div>\n",
       "<style scoped>\n",
       "    .dataframe tbody tr th:only-of-type {\n",
       "        vertical-align: middle;\n",
       "    }\n",
       "\n",
       "    .dataframe tbody tr th {\n",
       "        vertical-align: top;\n",
       "    }\n",
       "\n",
       "    .dataframe thead th {\n",
       "        text-align: right;\n",
       "    }\n",
       "</style>\n",
       "<table border=\"1\" class=\"dataframe\">\n",
       "  <thead>\n",
       "    <tr style=\"text-align: right;\">\n",
       "      <th></th>\n",
       "      <th>Date</th>\n",
       "      <th>Open</th>\n",
       "      <th>High</th>\n",
       "      <th>Low</th>\n",
       "      <th>Close</th>\n",
       "      <th>Adj Close</th>\n",
       "      <th>Volume</th>\n",
       "      <th>company_name</th>\n",
       "    </tr>\n",
       "  </thead>\n",
       "  <tbody>\n",
       "    <tr>\n",
       "      <th>3230</th>\n",
       "      <td>2022-11-01</td>\n",
       "      <td>103.989998</td>\n",
       "      <td>104.580002</td>\n",
       "      <td>96.059998</td>\n",
       "      <td>96.790001</td>\n",
       "      <td>96.790001</td>\n",
       "      <td>153370000</td>\n",
       "      <td>AMAZON</td>\n",
       "    </tr>\n",
       "    <tr>\n",
       "      <th>3231</th>\n",
       "      <td>2022-11-02</td>\n",
       "      <td>97.320000</td>\n",
       "      <td>97.739998</td>\n",
       "      <td>92.010002</td>\n",
       "      <td>92.120003</td>\n",
       "      <td>92.120003</td>\n",
       "      <td>135761800</td>\n",
       "      <td>AMAZON</td>\n",
       "    </tr>\n",
       "    <tr>\n",
       "      <th>3232</th>\n",
       "      <td>2022-11-03</td>\n",
       "      <td>92.470001</td>\n",
       "      <td>93.500000</td>\n",
       "      <td>89.019997</td>\n",
       "      <td>89.300003</td>\n",
       "      <td>89.300003</td>\n",
       "      <td>136683300</td>\n",
       "      <td>AMAZON</td>\n",
       "    </tr>\n",
       "    <tr>\n",
       "      <th>3233</th>\n",
       "      <td>2022-11-04</td>\n",
       "      <td>91.489998</td>\n",
       "      <td>92.440002</td>\n",
       "      <td>88.040001</td>\n",
       "      <td>90.980003</td>\n",
       "      <td>90.980003</td>\n",
       "      <td>129101300</td>\n",
       "      <td>AMAZON</td>\n",
       "    </tr>\n",
       "    <tr>\n",
       "      <th>3234</th>\n",
       "      <td>2022-11-07</td>\n",
       "      <td>91.949997</td>\n",
       "      <td>92.099998</td>\n",
       "      <td>89.040001</td>\n",
       "      <td>90.529999</td>\n",
       "      <td>90.529999</td>\n",
       "      <td>77495700</td>\n",
       "      <td>AMAZON</td>\n",
       "    </tr>\n",
       "  </tbody>\n",
       "</table>\n",
       "</div>"
      ],
      "text/plain": [
       "           Date        Open        High        Low      Close  Adj Close  \\\n",
       "3230 2022-11-01  103.989998  104.580002  96.059998  96.790001  96.790001   \n",
       "3231 2022-11-02   97.320000   97.739998  92.010002  92.120003  92.120003   \n",
       "3232 2022-11-03   92.470001   93.500000  89.019997  89.300003  89.300003   \n",
       "3233 2022-11-04   91.489998   92.440002  88.040001  90.980003  90.980003   \n",
       "3234 2022-11-07   91.949997   92.099998  89.040001  90.529999  90.529999   \n",
       "\n",
       "         Volume company_name  \n",
       "3230  153370000       AMAZON  \n",
       "3231  135761800       AMAZON  \n",
       "3232  136683300       AMAZON  \n",
       "3233  129101300       AMAZON  \n",
       "3234   77495700       AMAZON  "
      ]
     },
     "execution_count": 132,
     "metadata": {},
     "output_type": "execute_result"
    }
   ],
   "source": [
    "df_left.head()"
   ]
  },
  {
   "cell_type": "code",
   "execution_count": 133,
   "id": "2e4b659b",
   "metadata": {},
   "outputs": [],
   "source": [
    "# Removing last n rows\n",
    "#df_dropped_last_n = df.iloc[:-100]\n",
    " "
   ]
  },
  {
   "cell_type": "code",
   "execution_count": 134,
   "id": "9db7ae50",
   "metadata": {},
   "outputs": [
    {
     "data": {
      "text/plain": [
       "Index(['Date', 'Open', 'High', 'Low', 'Close', 'Adj Close', 'Volume',\n",
       "       'company_name', '50D-SMA', '50D-EMA', 'rsi', 'rsicat', 'average',\n",
       "       'vwap', 'vwap_pct_ret', 'pvwap'],\n",
       "      dtype='object')"
      ]
     },
     "execution_count": 134,
     "metadata": {},
     "output_type": "execute_result"
    }
   ],
   "source": [
    "df_stock.columns"
   ]
  },
  {
   "cell_type": "code",
   "execution_count": 257,
   "id": "b47577f8",
   "metadata": {},
   "outputs": [],
   "source": [
    "features = ['Close','50D-EMA','rsi', 'rsicat','vwap']\n",
    "x = df_stock[features]\n",
    "scaler = MinMaxScaler(feature_range=(0, 1))\n",
    "x = scaler.fit_transform(x)"
   ]
  },
  {
   "cell_type": "code",
   "execution_count": 258,
   "id": "ef6ccd60",
   "metadata": {},
   "outputs": [],
   "source": [
    "y = df_stock['Close'].fillna(method='ffill')\n",
    "y = y.values.reshape(-1, 1)\n",
    "\n",
    "# scale the data\n",
    "scaler = MinMaxScaler(feature_range=(0, 1))\n",
    "scaler = scaler.fit(y)\n",
    "y = scaler.transform(y)"
   ]
  },
  {
   "cell_type": "code",
   "execution_count": 259,
   "id": "d4063d48",
   "metadata": {},
   "outputs": [],
   "source": [
    "f_len = len(features)"
   ]
  },
  {
   "cell_type": "code",
   "execution_count": 260,
   "id": "6b76559f",
   "metadata": {},
   "outputs": [
    {
     "name": "stdout",
     "output_type": "stream",
     "text": [
      "Epoch 1/10\n",
      "84/84 [==============================] - 39s 467ms/step - loss: 0.0373\n",
      "Epoch 2/10\n",
      "84/84 [==============================] - 49s 583ms/step - loss: 0.0029\n",
      "Epoch 3/10\n",
      "84/84 [==============================] - 52s 617ms/step - loss: 0.0027\n",
      "Epoch 4/10\n",
      "84/84 [==============================] - 52s 619ms/step - loss: 0.0026\n",
      "Epoch 5/10\n",
      "84/84 [==============================] - 52s 624ms/step - loss: 0.0026\n",
      "Epoch 6/10\n",
      "84/84 [==============================] - 57s 680ms/step - loss: 0.0026\n",
      "Epoch 7/10\n",
      "84/84 [==============================] - 56s 670ms/step - loss: 0.0024\n",
      "Epoch 8/10\n",
      "84/84 [==============================] - 52s 616ms/step - loss: 0.0024\n",
      "Epoch 9/10\n",
      "84/84 [==============================] - 55s 656ms/step - loss: 0.0026\n",
      "Epoch 10/10\n",
      "84/84 [==============================] - 62s 733ms/step - loss: 0.0025\n"
     ]
    },
    {
     "data": {
      "text/plain": [
       "<tensorflow.python.keras.callbacks.History at 0x12262584940>"
      ]
     },
     "execution_count": 260,
     "metadata": {},
     "output_type": "execute_result"
    }
   ],
   "source": [
    "%run stock_utils.py\n",
    "a,b = create_train_test_windows(x,y,n_lookback,n_forecast)\n",
    "stock_model = create_model(n_lookback,n_forecast,f_len,model_type='LSTM')\n",
    "stock_model.fit(a, b, epochs=2, batch_size=32)\n"
   ]
  },
  {
   "cell_type": "code",
   "execution_count": 253,
   "id": "45d06b04",
   "metadata": {},
   "outputs": [],
   "source": [
    "#stock_model = tf.keras.models.load_model('saved_models/AAPL_7day_model')"
   ]
  },
  {
   "cell_type": "code",
   "execution_count": 261,
   "id": "516d7980",
   "metadata": {},
   "outputs": [
    {
     "name": "stdout",
     "output_type": "stream",
     "text": [
      "WARNING:tensorflow:9 out of the last 11 calls to <function Model.make_predict_function.<locals>.predict_function at 0x00000122655768B0> triggered tf.function retracing. Tracing is expensive and the excessive number of tracings could be due to (1) creating @tf.function repeatedly in a loop, (2) passing tensors with different shapes, (3) passing Python objects instead of tensors. For (1), please define your @tf.function outside of the loop. For (2), @tf.function has experimental_relax_shapes=True option that relaxes argument shapes that can avoid unnecessary retracing. For (3), please refer to https://www.tensorflow.org/tutorials/customization/performance#python_or_tensor_args and https://www.tensorflow.org/api_docs/python/tf/function for  more details.\n"
     ]
    }
   ],
   "source": [
    "%run stock_utils.py\n",
    "df_f,df_p = make_future_dataframe(df_stock,x,y,n_lookback,n_forecast,stock_model,scaler,features,f_len)"
   ]
  },
  {
   "cell_type": "code",
   "execution_count": 243,
   "id": "585c0f76",
   "metadata": {},
   "outputs": [
    {
     "data": {
      "text/html": [
       "<div>\n",
       "<style scoped>\n",
       "    .dataframe tbody tr th:only-of-type {\n",
       "        vertical-align: middle;\n",
       "    }\n",
       "\n",
       "    .dataframe tbody tr th {\n",
       "        vertical-align: top;\n",
       "    }\n",
       "\n",
       "    .dataframe thead th {\n",
       "        text-align: right;\n",
       "    }\n",
       "</style>\n",
       "<table border=\"1\" class=\"dataframe\">\n",
       "  <thead>\n",
       "    <tr style=\"text-align: right;\">\n",
       "      <th></th>\n",
       "      <th>Date</th>\n",
       "      <th>Actual</th>\n",
       "      <th>50D-SMA</th>\n",
       "      <th>50D-EMA</th>\n",
       "      <th>rsi</th>\n",
       "      <th>rsicat</th>\n",
       "      <th>Forecast</th>\n",
       "    </tr>\n",
       "  </thead>\n",
       "  <tbody>\n",
       "    <tr>\n",
       "      <th>3225</th>\n",
       "      <td>2022-10-25</td>\n",
       "      <td>120.599998</td>\n",
       "      <td>123.6012</td>\n",
       "      <td>120.609798</td>\n",
       "      <td>54.169981</td>\n",
       "      <td>2</td>\n",
       "      <td>NaN</td>\n",
       "    </tr>\n",
       "    <tr>\n",
       "      <th>3226</th>\n",
       "      <td>2022-10-26</td>\n",
       "      <td>115.660004</td>\n",
       "      <td>123.0188</td>\n",
       "      <td>120.415688</td>\n",
       "      <td>46.500584</td>\n",
       "      <td>1</td>\n",
       "      <td>NaN</td>\n",
       "    </tr>\n",
       "    <tr>\n",
       "      <th>3227</th>\n",
       "      <td>2022-10-27</td>\n",
       "      <td>110.959999</td>\n",
       "      <td>122.3960</td>\n",
       "      <td>120.044877</td>\n",
       "      <td>40.609601</td>\n",
       "      <td>1</td>\n",
       "      <td>NaN</td>\n",
       "    </tr>\n",
       "    <tr>\n",
       "      <th>3228</th>\n",
       "      <td>2022-10-28</td>\n",
       "      <td>103.410004</td>\n",
       "      <td>121.6182</td>\n",
       "      <td>119.392529</td>\n",
       "      <td>33.309477</td>\n",
       "      <td>1</td>\n",
       "      <td>NaN</td>\n",
       "    </tr>\n",
       "    <tr>\n",
       "      <th>3229</th>\n",
       "      <td>2022-10-31</td>\n",
       "      <td>102.440002</td>\n",
       "      <td>120.9024</td>\n",
       "      <td>118.727724</td>\n",
       "      <td>32.501108</td>\n",
       "      <td>1</td>\n",
       "      <td>102.440002</td>\n",
       "    </tr>\n",
       "  </tbody>\n",
       "</table>\n",
       "</div>"
      ],
      "text/plain": [
       "           Date      Actual   50D-SMA     50D-EMA        rsi  rsicat  \\\n",
       "3225 2022-10-25  120.599998  123.6012  120.609798  54.169981       2   \n",
       "3226 2022-10-26  115.660004  123.0188  120.415688  46.500584       1   \n",
       "3227 2022-10-27  110.959999  122.3960  120.044877  40.609601       1   \n",
       "3228 2022-10-28  103.410004  121.6182  119.392529  33.309477       1   \n",
       "3229 2022-10-31  102.440002  120.9024  118.727724  32.501108       1   \n",
       "\n",
       "        Forecast  \n",
       "3225         NaN  \n",
       "3226         NaN  \n",
       "3227         NaN  \n",
       "3228         NaN  \n",
       "3229  102.440002  "
      ]
     },
     "execution_count": 243,
     "metadata": {},
     "output_type": "execute_result"
    }
   ],
   "source": [
    "df_p.tail()"
   ]
  },
  {
   "cell_type": "code",
   "execution_count": 244,
   "id": "e4d48f8b",
   "metadata": {},
   "outputs": [
    {
     "data": {
      "text/html": [
       "<div>\n",
       "<style scoped>\n",
       "    .dataframe tbody tr th:only-of-type {\n",
       "        vertical-align: middle;\n",
       "    }\n",
       "\n",
       "    .dataframe tbody tr th {\n",
       "        vertical-align: top;\n",
       "    }\n",
       "\n",
       "    .dataframe thead th {\n",
       "        text-align: right;\n",
       "    }\n",
       "</style>\n",
       "<table border=\"1\" class=\"dataframe\">\n",
       "  <thead>\n",
       "    <tr style=\"text-align: right;\">\n",
       "      <th></th>\n",
       "      <th>Date</th>\n",
       "      <th>Actual</th>\n",
       "      <th>Forecast</th>\n",
       "    </tr>\n",
       "  </thead>\n",
       "  <tbody>\n",
       "    <tr>\n",
       "      <th>0</th>\n",
       "      <td>2022-11-01</td>\n",
       "      <td>NaN</td>\n",
       "      <td>109.898682</td>\n",
       "    </tr>\n",
       "    <tr>\n",
       "      <th>1</th>\n",
       "      <td>2022-11-02</td>\n",
       "      <td>NaN</td>\n",
       "      <td>112.700600</td>\n",
       "    </tr>\n",
       "    <tr>\n",
       "      <th>2</th>\n",
       "      <td>2022-11-03</td>\n",
       "      <td>NaN</td>\n",
       "      <td>113.212753</td>\n",
       "    </tr>\n",
       "    <tr>\n",
       "      <th>3</th>\n",
       "      <td>2022-11-04</td>\n",
       "      <td>NaN</td>\n",
       "      <td>113.218048</td>\n",
       "    </tr>\n",
       "    <tr>\n",
       "      <th>4</th>\n",
       "      <td>2022-11-05</td>\n",
       "      <td>NaN</td>\n",
       "      <td>111.261414</td>\n",
       "    </tr>\n",
       "  </tbody>\n",
       "</table>\n",
       "</div>"
      ],
      "text/plain": [
       "        Date Actual    Forecast\n",
       "0 2022-11-01    NaN  109.898682\n",
       "1 2022-11-02    NaN  112.700600\n",
       "2 2022-11-03    NaN  113.212753\n",
       "3 2022-11-04    NaN  113.218048\n",
       "4 2022-11-05    NaN  111.261414"
      ]
     },
     "execution_count": 244,
     "metadata": {},
     "output_type": "execute_result"
    }
   ],
   "source": [
    "df_f.head()"
   ]
  },
  {
   "cell_type": "code",
   "execution_count": 81,
   "id": "354e9e31",
   "metadata": {},
   "outputs": [
    {
     "data": {
      "text/html": [
       "<div>\n",
       "<style scoped>\n",
       "    .dataframe tbody tr th:only-of-type {\n",
       "        vertical-align: middle;\n",
       "    }\n",
       "\n",
       "    .dataframe tbody tr th {\n",
       "        vertical-align: top;\n",
       "    }\n",
       "\n",
       "    .dataframe thead th {\n",
       "        text-align: right;\n",
       "    }\n",
       "</style>\n",
       "<table border=\"1\" class=\"dataframe\">\n",
       "  <thead>\n",
       "    <tr style=\"text-align: right;\">\n",
       "      <th></th>\n",
       "      <th>Date</th>\n",
       "      <th>Open</th>\n",
       "      <th>High</th>\n",
       "      <th>Low</th>\n",
       "      <th>Close</th>\n",
       "      <th>Adj Close</th>\n",
       "      <th>Volume</th>\n",
       "      <th>company_name</th>\n",
       "    </tr>\n",
       "  </thead>\n",
       "  <tbody>\n",
       "    <tr>\n",
       "      <th>3260</th>\n",
       "      <td>2022-12-14</td>\n",
       "      <td>145.350006</td>\n",
       "      <td>146.660004</td>\n",
       "      <td>141.160004</td>\n",
       "      <td>143.210007</td>\n",
       "      <td>143.210007</td>\n",
       "      <td>82291200</td>\n",
       "      <td>APPLE</td>\n",
       "    </tr>\n",
       "    <tr>\n",
       "      <th>3261</th>\n",
       "      <td>2022-12-15</td>\n",
       "      <td>141.110001</td>\n",
       "      <td>141.800003</td>\n",
       "      <td>136.029999</td>\n",
       "      <td>136.500000</td>\n",
       "      <td>136.500000</td>\n",
       "      <td>98931900</td>\n",
       "      <td>APPLE</td>\n",
       "    </tr>\n",
       "    <tr>\n",
       "      <th>3262</th>\n",
       "      <td>2022-12-16</td>\n",
       "      <td>136.690002</td>\n",
       "      <td>137.649994</td>\n",
       "      <td>133.729996</td>\n",
       "      <td>134.509995</td>\n",
       "      <td>134.509995</td>\n",
       "      <td>160156900</td>\n",
       "      <td>APPLE</td>\n",
       "    </tr>\n",
       "    <tr>\n",
       "      <th>3263</th>\n",
       "      <td>2022-12-19</td>\n",
       "      <td>135.110001</td>\n",
       "      <td>135.199997</td>\n",
       "      <td>131.320007</td>\n",
       "      <td>132.369995</td>\n",
       "      <td>132.369995</td>\n",
       "      <td>79592600</td>\n",
       "      <td>APPLE</td>\n",
       "    </tr>\n",
       "    <tr>\n",
       "      <th>3264</th>\n",
       "      <td>2022-12-20</td>\n",
       "      <td>131.389999</td>\n",
       "      <td>133.250000</td>\n",
       "      <td>129.889999</td>\n",
       "      <td>132.300003</td>\n",
       "      <td>132.300003</td>\n",
       "      <td>77432800</td>\n",
       "      <td>APPLE</td>\n",
       "    </tr>\n",
       "  </tbody>\n",
       "</table>\n",
       "</div>"
      ],
      "text/plain": [
       "           Date        Open        High         Low       Close   Adj Close  \\\n",
       "3260 2022-12-14  145.350006  146.660004  141.160004  143.210007  143.210007   \n",
       "3261 2022-12-15  141.110001  141.800003  136.029999  136.500000  136.500000   \n",
       "3262 2022-12-16  136.690002  137.649994  133.729996  134.509995  134.509995   \n",
       "3263 2022-12-19  135.110001  135.199997  131.320007  132.369995  132.369995   \n",
       "3264 2022-12-20  131.389999  133.250000  129.889999  132.300003  132.300003   \n",
       "\n",
       "         Volume company_name  \n",
       "3260   82291200        APPLE  \n",
       "3261   98931900        APPLE  \n",
       "3262  160156900        APPLE  \n",
       "3263   79592600        APPLE  \n",
       "3264   77432800        APPLE  "
      ]
     },
     "execution_count": 81,
     "metadata": {},
     "output_type": "execute_result"
    }
   ],
   "source": [
    "df_left.head()"
   ]
  },
  {
   "cell_type": "code",
   "execution_count": null,
   "id": "53ba361c",
   "metadata": {},
   "outputs": [],
   "source": [
    "import matplotlib.pyplot as plt\n",
    "df_left['Forecast'] = df_f['Forecast']\n",
    "df_left.plot(x='Date',y=['Forecast','Close'])"
   ]
  },
  {
   "cell_type": "code",
   "execution_count": 262,
   "id": "e59ffdc6",
   "metadata": {},
   "outputs": [
    {
     "data": {
      "text/plain": [
       "31.185313283182204"
      ]
     },
     "execution_count": 262,
     "metadata": {},
     "output_type": "execute_result"
    }
   ],
   "source": [
    "rmse = np.sqrt(np.mean(((np.array(df_f['Forecast'])- np.array(df_left['Close'])) ** 2)))\n",
    "rmse"
   ]
  },
  {
   "cell_type": "code",
   "execution_count": 263,
   "id": "1f91e14d",
   "metadata": {},
   "outputs": [
    {
     "name": "stdout",
     "output_type": "stream",
     "text": [
      "0.3377202257427153\n",
      "30.53525670369466\n"
     ]
    }
   ],
   "source": [
    "from sklearn.metrics import mean_absolute_percentage_error,mean_absolute_error\n",
    "print(mean_absolute_percentage_error(np.array(df_left['Close']), np.array(df_f['Forecast'])))\n",
    "print(mean_absolute_error(np.array(df_left['Close']), np.array(df_f['Forecast'])))"
   ]
  },
  {
   "cell_type": "code",
   "execution_count": 217,
   "id": "37ac113e",
   "metadata": {},
   "outputs": [
    {
     "name": "stdout",
     "output_type": "stream",
     "text": [
      "INFO:tensorflow:Assets written to: saved_models/AMZN_30day_model\\assets\n"
     ]
    }
   ],
   "source": [
    "stock_model.save('saved_models/AMZN_60day_model')"
   ]
  },
  {
   "cell_type": "code",
   "execution_count": null,
   "id": "cd55469b",
   "metadata": {},
   "outputs": [],
   "source": [
    "#df = df.reset_index()"
   ]
  },
  {
   "cell_type": "code",
   "execution_count": null,
   "id": "c82d45f7",
   "metadata": {},
   "outputs": [],
   "source": [
    "#df_Actual = df.loc[(df['Date']>='2022-08-23')&(df['Date']<='2022-10-11')]"
   ]
  },
  {
   "cell_type": "code",
   "execution_count": null,
   "id": "61b9116c",
   "metadata": {},
   "outputs": [],
   "source": [
    "#df_Actual.head(36)"
   ]
  },
  {
   "cell_type": "code",
   "execution_count": null,
   "id": "5a6a537c",
   "metadata": {},
   "outputs": [],
   "source": [
    "#new_df = pd.merge(df_Actual, df_future,  how='inner',on='Date')"
   ]
  },
  {
   "cell_type": "code",
   "execution_count": null,
   "id": "8cc8dc3e",
   "metadata": {},
   "outputs": [],
   "source": [
    "#new_df.head(36)"
   ]
  },
  {
   "cell_type": "code",
   "execution_count": null,
   "id": "3fd4eedd",
   "metadata": {},
   "outputs": [],
   "source": [
    "#df_future = df_future[df_future.Date.dt.weekday < 5]"
   ]
  },
  {
   "cell_type": "code",
   "execution_count": null,
   "id": "d1032e71",
   "metadata": {},
   "outputs": [],
   "source": [
    "#from sklearn.metrics import mean_squared_error\n",
    "#mean_squared_error(np.array(new_df['Close']),np.array(new_df['Forecast']))\n",
    "#df_future.head(5)"
   ]
  },
  {
   "cell_type": "code",
   "execution_count": null,
   "id": "8453decc",
   "metadata": {},
   "outputs": [],
   "source": [
    "#df_Actual.shape"
   ]
  },
  {
   "cell_type": "code",
   "execution_count": null,
   "id": "23df6989",
   "metadata": {},
   "outputs": [],
   "source": [
    "#rmse = np.sqrt(np.mean(((np.array(df_future['Forecast'])- np.array(df_Actual['Close'])) ** 2)))\n",
    "#rmse"
   ]
  },
  {
   "cell_type": "code",
   "execution_count": null,
   "id": "f34435a9",
   "metadata": {},
   "outputs": [],
   "source": [
    "#results = df_past.append(df_future).set_index('Date')\n",
    "\n",
    "# plot the results\n",
    "#results.plot(title='AAPL')"
   ]
  },
  {
   "cell_type": "code",
   "execution_count": null,
   "id": "ca232940",
   "metadata": {},
   "outputs": [],
   "source": []
  }
 ],
 "metadata": {
  "kernelspec": {
   "display_name": "Python 3 (ipykernel)",
   "language": "python",
   "name": "python3"
  },
  "language_info": {
   "codemirror_mode": {
    "name": "ipython",
    "version": 3
   },
   "file_extension": ".py",
   "mimetype": "text/x-python",
   "name": "python",
   "nbconvert_exporter": "python",
   "pygments_lexer": "ipython3",
   "version": "3.8.8"
  }
 },
 "nbformat": 4,
 "nbformat_minor": 5
}
