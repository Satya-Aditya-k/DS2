{
 "cells": [
  {
   "cell_type": "code",
   "execution_count": 1,
   "id": "22259812",
   "metadata": {},
   "outputs": [
    {
     "name": "stderr",
     "output_type": "stream",
     "text": [
      "C:\\Users\\adity\\Anaconda3\\lib\\site-packages\\numpy\\_distributor_init.py:30: UserWarning: loaded more than 1 DLL from .libs:\n",
      "C:\\Users\\adity\\Anaconda3\\lib\\site-packages\\numpy\\.libs\\libopenblas.PYQHXLVVQ7VESDPUVUADXEVJOBGHJPAY.gfortran-win_amd64.dll\n",
      "C:\\Users\\adity\\Anaconda3\\lib\\site-packages\\numpy\\.libs\\libopenblas.WCDJNK7YVMPZQ2ME2ZZHJJRJ3JIKNDB7.gfortran-win_amd64.dll\n",
      "  warnings.warn(\"loaded more than 1 DLL from .libs:\"\n"
     ]
    }
   ],
   "source": [
    "import numpy as np\n",
    "import pandas as pd\n",
    "import yfinance as yf\n",
    "import tensorflow as tf\n",
    "from tensorflow.keras.layers import Dense, LSTM\n",
    "from tensorflow.keras.models import Sequential\n",
    "from sklearn.preprocessing import MinMaxScaler\n",
    "pd.options.mode.chained_assignment = None\n",
    "tf.random.set_seed(0)\n",
    "from stock_utils import *"
   ]
  },
  {
   "cell_type": "code",
   "execution_count": 2,
   "id": "4ddaf008",
   "metadata": {},
   "outputs": [
    {
     "name": "stdout",
     "output_type": "stream",
     "text": [
      "[*********************100%***********************]  1 of 1 completed\n",
      "[*********************100%***********************]  1 of 1 completed\n",
      "[*********************100%***********************]  1 of 1 completed\n"
     ]
    },
    {
     "data": {
      "text/html": [
       "<div>\n",
       "<style scoped>\n",
       "    .dataframe tbody tr th:only-of-type {\n",
       "        vertical-align: middle;\n",
       "    }\n",
       "\n",
       "    .dataframe tbody tr th {\n",
       "        vertical-align: top;\n",
       "    }\n",
       "\n",
       "    .dataframe thead th {\n",
       "        text-align: right;\n",
       "    }\n",
       "</style>\n",
       "<table border=\"1\" class=\"dataframe\">\n",
       "  <thead>\n",
       "    <tr style=\"text-align: right;\">\n",
       "      <th></th>\n",
       "      <th>Open</th>\n",
       "      <th>High</th>\n",
       "      <th>Low</th>\n",
       "      <th>Close</th>\n",
       "      <th>Adj Close</th>\n",
       "      <th>Volume</th>\n",
       "      <th>company_name</th>\n",
       "    </tr>\n",
       "    <tr>\n",
       "      <th>Date</th>\n",
       "      <th></th>\n",
       "      <th></th>\n",
       "      <th></th>\n",
       "      <th></th>\n",
       "      <th></th>\n",
       "      <th></th>\n",
       "      <th></th>\n",
       "    </tr>\n",
       "  </thead>\n",
       "  <tbody>\n",
       "    <tr>\n",
       "      <th>2010-01-04</th>\n",
       "      <td>7.622500</td>\n",
       "      <td>7.660714</td>\n",
       "      <td>7.585000</td>\n",
       "      <td>7.643214</td>\n",
       "      <td>6.515213</td>\n",
       "      <td>493729600</td>\n",
       "      <td>APPLE</td>\n",
       "    </tr>\n",
       "    <tr>\n",
       "      <th>2010-01-05</th>\n",
       "      <td>7.664286</td>\n",
       "      <td>7.699643</td>\n",
       "      <td>7.616071</td>\n",
       "      <td>7.656429</td>\n",
       "      <td>6.526477</td>\n",
       "      <td>601904800</td>\n",
       "      <td>APPLE</td>\n",
       "    </tr>\n",
       "    <tr>\n",
       "      <th>2010-01-06</th>\n",
       "      <td>7.656429</td>\n",
       "      <td>7.686786</td>\n",
       "      <td>7.526786</td>\n",
       "      <td>7.534643</td>\n",
       "      <td>6.422665</td>\n",
       "      <td>552160000</td>\n",
       "      <td>APPLE</td>\n",
       "    </tr>\n",
       "    <tr>\n",
       "      <th>2010-01-07</th>\n",
       "      <td>7.562500</td>\n",
       "      <td>7.571429</td>\n",
       "      <td>7.466071</td>\n",
       "      <td>7.520714</td>\n",
       "      <td>6.410792</td>\n",
       "      <td>477131200</td>\n",
       "      <td>APPLE</td>\n",
       "    </tr>\n",
       "    <tr>\n",
       "      <th>2010-01-08</th>\n",
       "      <td>7.510714</td>\n",
       "      <td>7.571429</td>\n",
       "      <td>7.466429</td>\n",
       "      <td>7.570714</td>\n",
       "      <td>6.453412</td>\n",
       "      <td>447610800</td>\n",
       "      <td>APPLE</td>\n",
       "    </tr>\n",
       "    <tr>\n",
       "      <th>2010-01-11</th>\n",
       "      <td>7.600000</td>\n",
       "      <td>7.607143</td>\n",
       "      <td>7.444643</td>\n",
       "      <td>7.503929</td>\n",
       "      <td>6.396483</td>\n",
       "      <td>462229600</td>\n",
       "      <td>APPLE</td>\n",
       "    </tr>\n",
       "    <tr>\n",
       "      <th>2010-01-12</th>\n",
       "      <td>7.471071</td>\n",
       "      <td>7.491786</td>\n",
       "      <td>7.372143</td>\n",
       "      <td>7.418571</td>\n",
       "      <td>6.323722</td>\n",
       "      <td>594459600</td>\n",
       "      <td>APPLE</td>\n",
       "    </tr>\n",
       "    <tr>\n",
       "      <th>2010-01-13</th>\n",
       "      <td>7.423929</td>\n",
       "      <td>7.533214</td>\n",
       "      <td>7.289286</td>\n",
       "      <td>7.523214</td>\n",
       "      <td>6.412922</td>\n",
       "      <td>605892000</td>\n",
       "      <td>APPLE</td>\n",
       "    </tr>\n",
       "    <tr>\n",
       "      <th>2010-01-14</th>\n",
       "      <td>7.503929</td>\n",
       "      <td>7.516429</td>\n",
       "      <td>7.465000</td>\n",
       "      <td>7.479643</td>\n",
       "      <td>6.375783</td>\n",
       "      <td>432894000</td>\n",
       "      <td>APPLE</td>\n",
       "    </tr>\n",
       "    <tr>\n",
       "      <th>2010-01-15</th>\n",
       "      <td>7.533214</td>\n",
       "      <td>7.557143</td>\n",
       "      <td>7.352500</td>\n",
       "      <td>7.354643</td>\n",
       "      <td>6.269229</td>\n",
       "      <td>594067600</td>\n",
       "      <td>APPLE</td>\n",
       "    </tr>\n",
       "  </tbody>\n",
       "</table>\n",
       "</div>"
      ],
      "text/plain": [
       "                Open      High       Low     Close  Adj Close     Volume  \\\n",
       "Date                                                                       \n",
       "2010-01-04  7.622500  7.660714  7.585000  7.643214   6.515213  493729600   \n",
       "2010-01-05  7.664286  7.699643  7.616071  7.656429   6.526477  601904800   \n",
       "2010-01-06  7.656429  7.686786  7.526786  7.534643   6.422665  552160000   \n",
       "2010-01-07  7.562500  7.571429  7.466071  7.520714   6.410792  477131200   \n",
       "2010-01-08  7.510714  7.571429  7.466429  7.570714   6.453412  447610800   \n",
       "2010-01-11  7.600000  7.607143  7.444643  7.503929   6.396483  462229600   \n",
       "2010-01-12  7.471071  7.491786  7.372143  7.418571   6.323722  594459600   \n",
       "2010-01-13  7.423929  7.533214  7.289286  7.523214   6.412922  605892000   \n",
       "2010-01-14  7.503929  7.516429  7.465000  7.479643   6.375783  432894000   \n",
       "2010-01-15  7.533214  7.557143  7.352500  7.354643   6.269229  594067600   \n",
       "\n",
       "           company_name  \n",
       "Date                     \n",
       "2010-01-04        APPLE  \n",
       "2010-01-05        APPLE  \n",
       "2010-01-06        APPLE  \n",
       "2010-01-07        APPLE  \n",
       "2010-01-08        APPLE  \n",
       "2010-01-11        APPLE  \n",
       "2010-01-12        APPLE  \n",
       "2010-01-13        APPLE  \n",
       "2010-01-14        APPLE  \n",
       "2010-01-15        APPLE  "
      ]
     },
     "execution_count": 2,
     "metadata": {},
     "output_type": "execute_result"
    }
   ],
   "source": [
    "from datetime import datetime\n",
    "tech_list = ['AAPL', 'GOOG', 'AMZN']\n",
    "\n",
    "start = \"2010-01-01\"\n",
    "end = datetime.now()\n",
    "for stock in tech_list:\n",
    "    globals()[stock] = yf.download(stock, start, end)\n",
    "    \n",
    "company_list = [AAPL, GOOG, AMZN]\n",
    "company_name = [\"APPLE\", \"GOOGLE\", \"AMAZON\"]\n",
    "\n",
    "for company, com_name in zip(company_list, company_name):\n",
    "    company[\"company_name\"] = com_name\n",
    "    \n",
    "df = pd.concat(company_list, axis=0)\n",
    "df.head(10)"
   ]
  },
  {
   "cell_type": "code",
   "execution_count": 3,
   "id": "ca2e11d5",
   "metadata": {},
   "outputs": [],
   "source": [
    "n_lookback = 500\n",
    "n_forecast = 60\n",
    "df_stock = AMZN.reset_index().copy()"
   ]
  },
  {
   "cell_type": "code",
   "execution_count": 4,
   "id": "f808bc6b",
   "metadata": {},
   "outputs": [],
   "source": [
    "df_stock, df_left = create_backtest_frames(df_stock,n_lookback,n_forecast)"
   ]
  },
  {
   "cell_type": "code",
   "execution_count": 5,
   "id": "3ade467b",
   "metadata": {},
   "outputs": [],
   "source": [
    "df_stock = feature_creation(df_stock)"
   ]
  },
  {
   "cell_type": "code",
   "execution_count": 6,
   "id": "b5c68ac0",
   "metadata": {},
   "outputs": [],
   "source": [
    "df_stock.bfill(inplace=True)\n",
    "df_stock.ffill(inplace=True)"
   ]
  },
  {
   "cell_type": "code",
   "execution_count": 7,
   "id": "62f0f011",
   "metadata": {},
   "outputs": [
    {
     "data": {
      "text/html": [
       "<div>\n",
       "<style scoped>\n",
       "    .dataframe tbody tr th:only-of-type {\n",
       "        vertical-align: middle;\n",
       "    }\n",
       "\n",
       "    .dataframe tbody tr th {\n",
       "        vertical-align: top;\n",
       "    }\n",
       "\n",
       "    .dataframe thead th {\n",
       "        text-align: right;\n",
       "    }\n",
       "</style>\n",
       "<table border=\"1\" class=\"dataframe\">\n",
       "  <thead>\n",
       "    <tr style=\"text-align: right;\">\n",
       "      <th></th>\n",
       "      <th>Date</th>\n",
       "      <th>Open</th>\n",
       "      <th>High</th>\n",
       "      <th>Low</th>\n",
       "      <th>Close</th>\n",
       "      <th>Adj Close</th>\n",
       "      <th>Volume</th>\n",
       "      <th>company_name</th>\n",
       "      <th>50D-SMA</th>\n",
       "      <th>50D-EMA</th>\n",
       "      <th>rsi</th>\n",
       "      <th>rsicat</th>\n",
       "      <th>average</th>\n",
       "      <th>vwap</th>\n",
       "      <th>vwap_pct_ret</th>\n",
       "      <th>pvwap</th>\n",
       "    </tr>\n",
       "  </thead>\n",
       "  <tbody>\n",
       "    <tr>\n",
       "      <th>3256</th>\n",
       "      <td>2022-12-08</td>\n",
       "      <td>89.239998</td>\n",
       "      <td>90.860001</td>\n",
       "      <td>87.879997</td>\n",
       "      <td>90.349998</td>\n",
       "      <td>90.349998</td>\n",
       "      <td>73305900</td>\n",
       "      <td>AMAZON</td>\n",
       "      <td>103.0416</td>\n",
       "      <td>101.833938</td>\n",
       "      <td>39.751727</td>\n",
       "      <td>1</td>\n",
       "      <td>89.696665</td>\n",
       "      <td>90.349998</td>\n",
       "      <td>0.021366</td>\n",
       "      <td>-0.013946</td>\n",
       "    </tr>\n",
       "    <tr>\n",
       "      <th>3257</th>\n",
       "      <td>2022-12-09</td>\n",
       "      <td>88.900002</td>\n",
       "      <td>90.300003</td>\n",
       "      <td>88.629997</td>\n",
       "      <td>89.089996</td>\n",
       "      <td>89.089996</td>\n",
       "      <td>67398500</td>\n",
       "      <td>AMAZON</td>\n",
       "      <td>102.5274</td>\n",
       "      <td>101.334176</td>\n",
       "      <td>37.993625</td>\n",
       "      <td>1</td>\n",
       "      <td>89.339999</td>\n",
       "      <td>89.089996</td>\n",
       "      <td>-0.013946</td>\n",
       "      <td>0.016388</td>\n",
       "    </tr>\n",
       "    <tr>\n",
       "      <th>3258</th>\n",
       "      <td>2022-12-12</td>\n",
       "      <td>89.209999</td>\n",
       "      <td>90.580002</td>\n",
       "      <td>87.870003</td>\n",
       "      <td>90.550003</td>\n",
       "      <td>90.550003</td>\n",
       "      <td>61999800</td>\n",
       "      <td>AMAZON</td>\n",
       "      <td>102.0784</td>\n",
       "      <td>100.911267</td>\n",
       "      <td>41.236739</td>\n",
       "      <td>1</td>\n",
       "      <td>89.666669</td>\n",
       "      <td>90.550003</td>\n",
       "      <td>0.016388</td>\n",
       "      <td>0.021425</td>\n",
       "    </tr>\n",
       "    <tr>\n",
       "      <th>3259</th>\n",
       "      <td>2022-12-13</td>\n",
       "      <td>95.230003</td>\n",
       "      <td>96.250000</td>\n",
       "      <td>90.519997</td>\n",
       "      <td>92.489998</td>\n",
       "      <td>92.489998</td>\n",
       "      <td>100212000</td>\n",
       "      <td>AMAZON</td>\n",
       "      <td>101.6106</td>\n",
       "      <td>100.581021</td>\n",
       "      <td>45.328561</td>\n",
       "      <td>1</td>\n",
       "      <td>93.086665</td>\n",
       "      <td>92.489998</td>\n",
       "      <td>0.021425</td>\n",
       "      <td>-0.009839</td>\n",
       "    </tr>\n",
       "    <tr>\n",
       "      <th>3260</th>\n",
       "      <td>2022-12-14</td>\n",
       "      <td>92.500000</td>\n",
       "      <td>93.459999</td>\n",
       "      <td>89.870003</td>\n",
       "      <td>91.580002</td>\n",
       "      <td>91.580002</td>\n",
       "      <td>70298000</td>\n",
       "      <td>AMAZON</td>\n",
       "      <td>101.0204</td>\n",
       "      <td>100.228040</td>\n",
       "      <td>43.788306</td>\n",
       "      <td>1</td>\n",
       "      <td>91.636668</td>\n",
       "      <td>91.580002</td>\n",
       "      <td>-0.009839</td>\n",
       "      <td>-0.009839</td>\n",
       "    </tr>\n",
       "  </tbody>\n",
       "</table>\n",
       "</div>"
      ],
      "text/plain": [
       "           Date       Open       High        Low      Close  Adj Close  \\\n",
       "3256 2022-12-08  89.239998  90.860001  87.879997  90.349998  90.349998   \n",
       "3257 2022-12-09  88.900002  90.300003  88.629997  89.089996  89.089996   \n",
       "3258 2022-12-12  89.209999  90.580002  87.870003  90.550003  90.550003   \n",
       "3259 2022-12-13  95.230003  96.250000  90.519997  92.489998  92.489998   \n",
       "3260 2022-12-14  92.500000  93.459999  89.870003  91.580002  91.580002   \n",
       "\n",
       "         Volume company_name   50D-SMA     50D-EMA        rsi  rsicat  \\\n",
       "3256   73305900       AMAZON  103.0416  101.833938  39.751727       1   \n",
       "3257   67398500       AMAZON  102.5274  101.334176  37.993625       1   \n",
       "3258   61999800       AMAZON  102.0784  100.911267  41.236739       1   \n",
       "3259  100212000       AMAZON  101.6106  100.581021  45.328561       1   \n",
       "3260   70298000       AMAZON  101.0204  100.228040  43.788306       1   \n",
       "\n",
       "        average       vwap  vwap_pct_ret     pvwap  \n",
       "3256  89.696665  90.349998      0.021366 -0.013946  \n",
       "3257  89.339999  89.089996     -0.013946  0.016388  \n",
       "3258  89.666669  90.550003      0.016388  0.021425  \n",
       "3259  93.086665  92.489998      0.021425 -0.009839  \n",
       "3260  91.636668  91.580002     -0.009839 -0.009839  "
      ]
     },
     "execution_count": 7,
     "metadata": {},
     "output_type": "execute_result"
    }
   ],
   "source": [
    "#df_left = df_stock.iloc[:-100]\n",
    "df_stock.tail()"
   ]
  },
  {
   "cell_type": "code",
   "execution_count": 8,
   "id": "5ae7628e",
   "metadata": {},
   "outputs": [
    {
     "data": {
      "text/html": [
       "<div>\n",
       "<style scoped>\n",
       "    .dataframe tbody tr th:only-of-type {\n",
       "        vertical-align: middle;\n",
       "    }\n",
       "\n",
       "    .dataframe tbody tr th {\n",
       "        vertical-align: top;\n",
       "    }\n",
       "\n",
       "    .dataframe thead th {\n",
       "        text-align: right;\n",
       "    }\n",
       "</style>\n",
       "<table border=\"1\" class=\"dataframe\">\n",
       "  <thead>\n",
       "    <tr style=\"text-align: right;\">\n",
       "      <th></th>\n",
       "      <th>Date</th>\n",
       "      <th>Open</th>\n",
       "      <th>High</th>\n",
       "      <th>Low</th>\n",
       "      <th>Close</th>\n",
       "      <th>Adj Close</th>\n",
       "      <th>Volume</th>\n",
       "      <th>company_name</th>\n",
       "    </tr>\n",
       "  </thead>\n",
       "  <tbody>\n",
       "    <tr>\n",
       "      <th>3261</th>\n",
       "      <td>2022-12-15</td>\n",
       "      <td>89.889999</td>\n",
       "      <td>89.970001</td>\n",
       "      <td>87.470001</td>\n",
       "      <td>88.449997</td>\n",
       "      <td>88.449997</td>\n",
       "      <td>84802900</td>\n",
       "      <td>AMAZON</td>\n",
       "    </tr>\n",
       "    <tr>\n",
       "      <th>3262</th>\n",
       "      <td>2022-12-16</td>\n",
       "      <td>88.269997</td>\n",
       "      <td>89.349998</td>\n",
       "      <td>86.730003</td>\n",
       "      <td>87.860001</td>\n",
       "      <td>87.860001</td>\n",
       "      <td>146144100</td>\n",
       "      <td>AMAZON</td>\n",
       "    </tr>\n",
       "    <tr>\n",
       "      <th>3263</th>\n",
       "      <td>2022-12-19</td>\n",
       "      <td>87.510002</td>\n",
       "      <td>87.629997</td>\n",
       "      <td>84.510002</td>\n",
       "      <td>84.919998</td>\n",
       "      <td>84.919998</td>\n",
       "      <td>83531500</td>\n",
       "      <td>AMAZON</td>\n",
       "    </tr>\n",
       "    <tr>\n",
       "      <th>3264</th>\n",
       "      <td>2022-12-20</td>\n",
       "      <td>85.330002</td>\n",
       "      <td>86.610001</td>\n",
       "      <td>84.330002</td>\n",
       "      <td>85.190002</td>\n",
       "      <td>85.190002</td>\n",
       "      <td>74348300</td>\n",
       "      <td>AMAZON</td>\n",
       "    </tr>\n",
       "    <tr>\n",
       "      <th>3265</th>\n",
       "      <td>2022-12-21</td>\n",
       "      <td>86.180000</td>\n",
       "      <td>87.230003</td>\n",
       "      <td>85.209999</td>\n",
       "      <td>86.769997</td>\n",
       "      <td>86.769997</td>\n",
       "      <td>59267200</td>\n",
       "      <td>AMAZON</td>\n",
       "    </tr>\n",
       "  </tbody>\n",
       "</table>\n",
       "</div>"
      ],
      "text/plain": [
       "           Date       Open       High        Low      Close  Adj Close  \\\n",
       "3261 2022-12-15  89.889999  89.970001  87.470001  88.449997  88.449997   \n",
       "3262 2022-12-16  88.269997  89.349998  86.730003  87.860001  87.860001   \n",
       "3263 2022-12-19  87.510002  87.629997  84.510002  84.919998  84.919998   \n",
       "3264 2022-12-20  85.330002  86.610001  84.330002  85.190002  85.190002   \n",
       "3265 2022-12-21  86.180000  87.230003  85.209999  86.769997  86.769997   \n",
       "\n",
       "         Volume company_name  \n",
       "3261   84802900       AMAZON  \n",
       "3262  146144100       AMAZON  \n",
       "3263   83531500       AMAZON  \n",
       "3264   74348300       AMAZON  \n",
       "3265   59267200       AMAZON  "
      ]
     },
     "execution_count": 8,
     "metadata": {},
     "output_type": "execute_result"
    }
   ],
   "source": [
    "df_left.head()"
   ]
  },
  {
   "cell_type": "code",
   "execution_count": 544,
   "id": "2e4b659b",
   "metadata": {},
   "outputs": [],
   "source": [
    "# Removing last n rows\n",
    "#df_dropped_last_n = df.iloc[:-100]\n",
    " "
   ]
  },
  {
   "cell_type": "code",
   "execution_count": 545,
   "id": "9db7ae50",
   "metadata": {},
   "outputs": [
    {
     "data": {
      "text/plain": [
       "Index(['Date', 'Open', 'High', 'Low', 'Close', 'Adj Close', 'Volume',\n",
       "       'company_name', '50D-SMA', '50D-EMA', 'rsi', 'rsicat', 'average',\n",
       "       'vwap', 'vwap_pct_ret', 'pvwap'],\n",
       "      dtype='object')"
      ]
     },
     "execution_count": 545,
     "metadata": {},
     "output_type": "execute_result"
    }
   ],
   "source": [
    "df_stock.columns"
   ]
  },
  {
   "cell_type": "code",
   "execution_count": 9,
   "id": "b47577f8",
   "metadata": {},
   "outputs": [],
   "source": [
    "features = ['Close','50D-SMA','50D-EMA','rsi','rsicat']\n",
    "x = df_stock[features]\n",
    "scaler = MinMaxScaler(feature_range=(0, 1))\n",
    "x = scaler.fit_transform(x)"
   ]
  },
  {
   "cell_type": "code",
   "execution_count": 10,
   "id": "d0b75b38",
   "metadata": {},
   "outputs": [
    {
     "data": {
      "text/plain": [
       "(3261, 5)"
      ]
     },
     "execution_count": 10,
     "metadata": {},
     "output_type": "execute_result"
    }
   ],
   "source": [
    "x.shape"
   ]
  },
  {
   "cell_type": "code",
   "execution_count": 11,
   "id": "ef6ccd60",
   "metadata": {},
   "outputs": [],
   "source": [
    "y = df_stock['Close'].fillna(method='ffill')\n",
    "y = y.values.reshape(-1, 1)\n",
    "\n",
    "# scale the data\n",
    "scaler = MinMaxScaler(feature_range=(0, 1))\n",
    "scaler = scaler.fit(y)\n",
    "y = scaler.transform(y)"
   ]
  },
  {
   "cell_type": "code",
   "execution_count": 12,
   "id": "d4063d48",
   "metadata": {},
   "outputs": [],
   "source": [
    "f_len = len(features)"
   ]
  },
  {
   "cell_type": "code",
   "execution_count": 13,
   "id": "c3fabeb7",
   "metadata": {},
   "outputs": [],
   "source": [
    "#import tensorflow as tf\n",
    "\n",
    "stock_model = tf.keras.models.load_model('saved_models/AMZN_60day_model')"
   ]
  },
  {
   "cell_type": "code",
   "execution_count": 15,
   "id": "5756d32c",
   "metadata": {},
   "outputs": [
    {
     "name": "stdout",
     "output_type": "stream",
     "text": [
      "Model: \"sequential_26\"\n",
      "_________________________________________________________________\n",
      "Layer (type)                 Output Shape              Param #   \n",
      "=================================================================\n",
      "lstm_52 (LSTM)               (None, 500, 100)          42400     \n",
      "_________________________________________________________________\n",
      "lstm_53 (LSTM)               (None, 50)                30200     \n",
      "_________________________________________________________________\n",
      "dense_58 (Dense)             (None, 25)                1275      \n",
      "_________________________________________________________________\n",
      "dense_59 (Dense)             (None, 60)                1560      \n",
      "=================================================================\n",
      "Total params: 75,435\n",
      "Trainable params: 75,435\n",
      "Non-trainable params: 0\n",
      "_________________________________________________________________\n"
     ]
    }
   ],
   "source": [
    "stock_model.summary()"
   ]
  },
  {
   "cell_type": "code",
   "execution_count": 14,
   "id": "1f45fc66",
   "metadata": {},
   "outputs": [
    {
     "ename": "ValueError",
     "evalue": "Length of values (60) does not match length of index (30)",
     "output_type": "error",
     "traceback": [
      "\u001b[1;31m---------------------------------------------------------------------------\u001b[0m",
      "\u001b[1;31mValueError\u001b[0m                                Traceback (most recent call last)",
      "\u001b[1;32m~\\AppData\\Local\\Temp\\ipykernel_19988\\3848351884.py\u001b[0m in \u001b[0;36m<module>\u001b[1;34m\u001b[0m\n\u001b[1;32m----> 1\u001b[1;33m \u001b[0mdf_f\u001b[0m\u001b[1;33m,\u001b[0m\u001b[0mdf_p\u001b[0m \u001b[1;33m=\u001b[0m \u001b[0mmake_future_dataframe\u001b[0m\u001b[1;33m(\u001b[0m\u001b[0mdf_stock\u001b[0m\u001b[1;33m,\u001b[0m\u001b[0mx\u001b[0m\u001b[1;33m,\u001b[0m\u001b[0my\u001b[0m\u001b[1;33m,\u001b[0m\u001b[0mn_lookback\u001b[0m\u001b[1;33m,\u001b[0m\u001b[0mn_forecast\u001b[0m\u001b[1;33m,\u001b[0m\u001b[0mstock_model\u001b[0m\u001b[1;33m,\u001b[0m\u001b[0mscaler\u001b[0m\u001b[1;33m,\u001b[0m\u001b[0mfeatures\u001b[0m\u001b[1;33m,\u001b[0m\u001b[0mf_len\u001b[0m\u001b[1;33m)\u001b[0m\u001b[1;33m\u001b[0m\u001b[1;33m\u001b[0m\u001b[0m\n\u001b[0m",
      "\u001b[1;32m~\\DS2\\stock_utils.py\u001b[0m in \u001b[0;36mmake_future_dataframe\u001b[1;34m(df, x, y, n_lookback, n_forecast, model, scaler, features, f_len)\u001b[0m\n\u001b[0;32m     92\u001b[0m     \u001b[0mdf_future\u001b[0m \u001b[1;33m=\u001b[0m \u001b[0mpd\u001b[0m\u001b[1;33m.\u001b[0m\u001b[0mDataFrame\u001b[0m\u001b[1;33m(\u001b[0m\u001b[0mcolumns\u001b[0m\u001b[1;33m=\u001b[0m\u001b[1;33m[\u001b[0m\u001b[1;34m'Date'\u001b[0m\u001b[1;33m,\u001b[0m \u001b[1;34m'Actual'\u001b[0m\u001b[1;33m,\u001b[0m \u001b[1;34m'Forecast'\u001b[0m\u001b[1;33m]\u001b[0m\u001b[1;33m)\u001b[0m\u001b[1;33m\u001b[0m\u001b[1;33m\u001b[0m\u001b[0m\n\u001b[0;32m     93\u001b[0m     \u001b[0mdf_future\u001b[0m\u001b[1;33m[\u001b[0m\u001b[1;34m'Date'\u001b[0m\u001b[1;33m]\u001b[0m \u001b[1;33m=\u001b[0m \u001b[0mpd\u001b[0m\u001b[1;33m.\u001b[0m\u001b[0mdate_range\u001b[0m\u001b[1;33m(\u001b[0m\u001b[0mstart\u001b[0m\u001b[1;33m=\u001b[0m\u001b[0mdf_past\u001b[0m\u001b[1;33m[\u001b[0m\u001b[1;34m'Date'\u001b[0m\u001b[1;33m]\u001b[0m\u001b[1;33m.\u001b[0m\u001b[0miloc\u001b[0m\u001b[1;33m[\u001b[0m\u001b[1;33m-\u001b[0m\u001b[1;36m1\u001b[0m\u001b[1;33m]\u001b[0m \u001b[1;33m+\u001b[0m \u001b[0mpd\u001b[0m\u001b[1;33m.\u001b[0m\u001b[0mTimedelta\u001b[0m\u001b[1;33m(\u001b[0m\u001b[0mdays\u001b[0m\u001b[1;33m=\u001b[0m\u001b[1;36m1\u001b[0m\u001b[1;33m)\u001b[0m\u001b[1;33m,\u001b[0m \u001b[0mperiods\u001b[0m\u001b[1;33m=\u001b[0m\u001b[0mn_forecast\u001b[0m\u001b[1;33m)\u001b[0m\u001b[1;33m\u001b[0m\u001b[1;33m\u001b[0m\u001b[0m\n\u001b[1;32m---> 94\u001b[1;33m     \u001b[0mdf_future\u001b[0m\u001b[1;33m[\u001b[0m\u001b[1;34m'Forecast'\u001b[0m\u001b[1;33m]\u001b[0m \u001b[1;33m=\u001b[0m \u001b[0mY_\u001b[0m\u001b[1;33m.\u001b[0m\u001b[0mflatten\u001b[0m\u001b[1;33m(\u001b[0m\u001b[1;33m)\u001b[0m\u001b[1;33m\u001b[0m\u001b[1;33m\u001b[0m\u001b[0m\n\u001b[0m\u001b[0;32m     95\u001b[0m     \u001b[1;31m#df_future['Actual'] = np.nan\u001b[0m\u001b[1;33m\u001b[0m\u001b[1;33m\u001b[0m\u001b[1;33m\u001b[0m\u001b[0m\n\u001b[0;32m     96\u001b[0m \u001b[1;33m\u001b[0m\u001b[0m\n",
      "\u001b[1;32m~\\Anaconda3\\lib\\site-packages\\pandas\\core\\frame.py\u001b[0m in \u001b[0;36m__setitem__\u001b[1;34m(self, key, value)\u001b[0m\n\u001b[0;32m   3653\u001b[0m         \u001b[1;32melse\u001b[0m\u001b[1;33m:\u001b[0m\u001b[1;33m\u001b[0m\u001b[1;33m\u001b[0m\u001b[0m\n\u001b[0;32m   3654\u001b[0m             \u001b[1;31m# set column\u001b[0m\u001b[1;33m\u001b[0m\u001b[1;33m\u001b[0m\u001b[1;33m\u001b[0m\u001b[0m\n\u001b[1;32m-> 3655\u001b[1;33m             \u001b[0mself\u001b[0m\u001b[1;33m.\u001b[0m\u001b[0m_set_item\u001b[0m\u001b[1;33m(\u001b[0m\u001b[0mkey\u001b[0m\u001b[1;33m,\u001b[0m \u001b[0mvalue\u001b[0m\u001b[1;33m)\u001b[0m\u001b[1;33m\u001b[0m\u001b[1;33m\u001b[0m\u001b[0m\n\u001b[0m\u001b[0;32m   3656\u001b[0m \u001b[1;33m\u001b[0m\u001b[0m\n\u001b[0;32m   3657\u001b[0m     \u001b[1;32mdef\u001b[0m \u001b[0m_setitem_slice\u001b[0m\u001b[1;33m(\u001b[0m\u001b[0mself\u001b[0m\u001b[1;33m,\u001b[0m \u001b[0mkey\u001b[0m\u001b[1;33m:\u001b[0m \u001b[0mslice\u001b[0m\u001b[1;33m,\u001b[0m \u001b[0mvalue\u001b[0m\u001b[1;33m)\u001b[0m\u001b[1;33m:\u001b[0m\u001b[1;33m\u001b[0m\u001b[1;33m\u001b[0m\u001b[0m\n",
      "\u001b[1;32m~\\Anaconda3\\lib\\site-packages\\pandas\\core\\frame.py\u001b[0m in \u001b[0;36m_set_item\u001b[1;34m(self, key, value)\u001b[0m\n\u001b[0;32m   3830\u001b[0m         \u001b[0mensure\u001b[0m \u001b[0mhomogeneity\u001b[0m\u001b[1;33m.\u001b[0m\u001b[1;33m\u001b[0m\u001b[1;33m\u001b[0m\u001b[0m\n\u001b[0;32m   3831\u001b[0m         \"\"\"\n\u001b[1;32m-> 3832\u001b[1;33m         \u001b[0mvalue\u001b[0m \u001b[1;33m=\u001b[0m \u001b[0mself\u001b[0m\u001b[1;33m.\u001b[0m\u001b[0m_sanitize_column\u001b[0m\u001b[1;33m(\u001b[0m\u001b[0mvalue\u001b[0m\u001b[1;33m)\u001b[0m\u001b[1;33m\u001b[0m\u001b[1;33m\u001b[0m\u001b[0m\n\u001b[0m\u001b[0;32m   3833\u001b[0m \u001b[1;33m\u001b[0m\u001b[0m\n\u001b[0;32m   3834\u001b[0m         if (\n",
      "\u001b[1;32m~\\Anaconda3\\lib\\site-packages\\pandas\\core\\frame.py\u001b[0m in \u001b[0;36m_sanitize_column\u001b[1;34m(self, value)\u001b[0m\n\u001b[0;32m   4533\u001b[0m \u001b[1;33m\u001b[0m\u001b[0m\n\u001b[0;32m   4534\u001b[0m         \u001b[1;32mif\u001b[0m \u001b[0mis_list_like\u001b[0m\u001b[1;33m(\u001b[0m\u001b[0mvalue\u001b[0m\u001b[1;33m)\u001b[0m\u001b[1;33m:\u001b[0m\u001b[1;33m\u001b[0m\u001b[1;33m\u001b[0m\u001b[0m\n\u001b[1;32m-> 4535\u001b[1;33m             \u001b[0mcom\u001b[0m\u001b[1;33m.\u001b[0m\u001b[0mrequire_length_match\u001b[0m\u001b[1;33m(\u001b[0m\u001b[0mvalue\u001b[0m\u001b[1;33m,\u001b[0m \u001b[0mself\u001b[0m\u001b[1;33m.\u001b[0m\u001b[0mindex\u001b[0m\u001b[1;33m)\u001b[0m\u001b[1;33m\u001b[0m\u001b[1;33m\u001b[0m\u001b[0m\n\u001b[0m\u001b[0;32m   4536\u001b[0m         \u001b[1;32mreturn\u001b[0m \u001b[0msanitize_array\u001b[0m\u001b[1;33m(\u001b[0m\u001b[0mvalue\u001b[0m\u001b[1;33m,\u001b[0m \u001b[0mself\u001b[0m\u001b[1;33m.\u001b[0m\u001b[0mindex\u001b[0m\u001b[1;33m,\u001b[0m \u001b[0mcopy\u001b[0m\u001b[1;33m=\u001b[0m\u001b[1;32mTrue\u001b[0m\u001b[1;33m,\u001b[0m \u001b[0mallow_2d\u001b[0m\u001b[1;33m=\u001b[0m\u001b[1;32mTrue\u001b[0m\u001b[1;33m)\u001b[0m\u001b[1;33m\u001b[0m\u001b[1;33m\u001b[0m\u001b[0m\n\u001b[0;32m   4537\u001b[0m \u001b[1;33m\u001b[0m\u001b[0m\n",
      "\u001b[1;32m~\\Anaconda3\\lib\\site-packages\\pandas\\core\\common.py\u001b[0m in \u001b[0;36mrequire_length_match\u001b[1;34m(data, index)\u001b[0m\n\u001b[0;32m    555\u001b[0m     \"\"\"\n\u001b[0;32m    556\u001b[0m     \u001b[1;32mif\u001b[0m \u001b[0mlen\u001b[0m\u001b[1;33m(\u001b[0m\u001b[0mdata\u001b[0m\u001b[1;33m)\u001b[0m \u001b[1;33m!=\u001b[0m \u001b[0mlen\u001b[0m\u001b[1;33m(\u001b[0m\u001b[0mindex\u001b[0m\u001b[1;33m)\u001b[0m\u001b[1;33m:\u001b[0m\u001b[1;33m\u001b[0m\u001b[1;33m\u001b[0m\u001b[0m\n\u001b[1;32m--> 557\u001b[1;33m         raise ValueError(\n\u001b[0m\u001b[0;32m    558\u001b[0m             \u001b[1;34m\"Length of values \"\u001b[0m\u001b[1;33m\u001b[0m\u001b[1;33m\u001b[0m\u001b[0m\n\u001b[0;32m    559\u001b[0m             \u001b[1;34mf\"({len(data)}) \"\u001b[0m\u001b[1;33m\u001b[0m\u001b[1;33m\u001b[0m\u001b[0m\n",
      "\u001b[1;31mValueError\u001b[0m: Length of values (60) does not match length of index (30)"
     ]
    }
   ],
   "source": [
    "df_f,df_p = make_future_dataframe(df_stock,x,y,n_lookback,n_forecast,stock_model,scaler,features,f_len)"
   ]
  },
  {
   "cell_type": "code",
   "execution_count": 517,
   "id": "e9c6bd9b",
   "metadata": {},
   "outputs": [
    {
     "data": {
      "text/plain": [
       "5.594776321971569"
      ]
     },
     "execution_count": 517,
     "metadata": {},
     "output_type": "execute_result"
    }
   ],
   "source": [
    "rmse = np.sqrt(np.mean(((np.array(df_f['Forecast'])- np.array(df_left['Close'])) ** 2)))\n",
    "rmse"
   ]
  },
  {
   "cell_type": "code",
   "execution_count": 518,
   "id": "85286e69",
   "metadata": {},
   "outputs": [
    {
     "name": "stdout",
     "output_type": "stream",
     "text": [
      "0.03279278603854842\n",
      "4.532716878255209\n"
     ]
    }
   ],
   "source": [
    "from sklearn.metrics import mean_absolute_percentage_error,mean_absolute_error\n",
    "print(mean_absolute_percentage_error(np.array(df_left['Close']), np.array(df_f['Forecast'])))\n",
    "print(mean_absolute_error(np.array(df_left['Close']), np.array(df_f['Forecast'])))"
   ]
  },
  {
   "cell_type": "code",
   "execution_count": null,
   "id": "6c11422f",
   "metadata": {},
   "outputs": [],
   "source": []
  }
 ],
 "metadata": {
  "kernelspec": {
   "display_name": "Python 3 (ipykernel)",
   "language": "python",
   "name": "python3"
  },
  "language_info": {
   "codemirror_mode": {
    "name": "ipython",
    "version": 3
   },
   "file_extension": ".py",
   "mimetype": "text/x-python",
   "name": "python",
   "nbconvert_exporter": "python",
   "pygments_lexer": "ipython3",
   "version": "3.8.8"
  }
 },
 "nbformat": 4,
 "nbformat_minor": 5
}
