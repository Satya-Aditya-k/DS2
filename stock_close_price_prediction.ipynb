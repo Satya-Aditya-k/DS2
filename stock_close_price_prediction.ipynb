{
 "cells": [
  {
   "cell_type": "code",
   "execution_count": 4,
   "id": "21be4a1d",
   "metadata": {},
   "outputs": [],
   "source": [
    "import numpy as np\n",
    "import pandas as pd\n",
    "import yfinance as yf\n",
    "import tensorflow as tf\n",
    "from tensorflow.keras.layers import Dense, LSTM\n",
    "from tensorflow.keras.models import Sequential\n",
    "from sklearn.preprocessing import MinMaxScaler\n",
    "pd.options.mode.chained_assignment = None\n",
    "tf.random.set_seed(0)\n",
    "from stock_utils import *"
   ]
  },
  {
   "cell_type": "code",
   "execution_count": 5,
   "id": "1758d027",
   "metadata": {},
   "outputs": [],
   "source": [
    "def RSI(series, period):\n",
    "    \n",
    "    delta = series.diff().dropna()\n",
    "    u = delta * 0\n",
    "    d = u.copy()\n",
    "    u[delta > 0] = delta[delta > 0]\n",
    "    d[delta < 0] = -delta[delta < 0]\n",
    "    u[u.index[period-1]] = np.mean( u[:period] ) #first value is sum of avg gains\n",
    "    u = u.drop(u.index[:(period-1)])\n",
    "    d[d.index[period-1]] = np.mean( d[:period] ) #first value is sum of avg losses\n",
    "    d = d.drop(d.index[:(period-1)])\n",
    "    rs = pd.DataFrame.ewm(u, com=period-1, adjust=False).mean() / \\\n",
    "         pd.DataFrame.ewm(d, com=period-1, adjust=False).mean()\n",
    "    \n",
    "    return 100 - 100 / (1 + rs)\n",
    "\n",
    "\n",
    "def rsi_class(x):\n",
    "    ret = \"low\"\n",
    "    if x < 50:\n",
    "        ret = \"low\"\n",
    "    if x > 50:\n",
    "        ret = \"med\"\n",
    "    if x > 70:\n",
    "        ret = \"high\"\n",
    "    return(ret)"
   ]
  },
  {
   "cell_type": "code",
   "execution_count": 6,
   "id": "22618788",
   "metadata": {},
   "outputs": [
    {
     "name": "stdout",
     "output_type": "stream",
     "text": [
      "[*********************100%***********************]  1 of 1 completed\n",
      "[*********************100%***********************]  1 of 1 completed\n",
      "[*********************100%***********************]  1 of 1 completed\n"
     ]
    },
    {
     "data": {
      "text/html": [
       "<div>\n",
       "<style scoped>\n",
       "    .dataframe tbody tr th:only-of-type {\n",
       "        vertical-align: middle;\n",
       "    }\n",
       "\n",
       "    .dataframe tbody tr th {\n",
       "        vertical-align: top;\n",
       "    }\n",
       "\n",
       "    .dataframe thead th {\n",
       "        text-align: right;\n",
       "    }\n",
       "</style>\n",
       "<table border=\"1\" class=\"dataframe\">\n",
       "  <thead>\n",
       "    <tr style=\"text-align: right;\">\n",
       "      <th></th>\n",
       "      <th>Open</th>\n",
       "      <th>High</th>\n",
       "      <th>Low</th>\n",
       "      <th>Close</th>\n",
       "      <th>Adj Close</th>\n",
       "      <th>Volume</th>\n",
       "      <th>company_name</th>\n",
       "    </tr>\n",
       "    <tr>\n",
       "      <th>Date</th>\n",
       "      <th></th>\n",
       "      <th></th>\n",
       "      <th></th>\n",
       "      <th></th>\n",
       "      <th></th>\n",
       "      <th></th>\n",
       "      <th></th>\n",
       "    </tr>\n",
       "  </thead>\n",
       "  <tbody>\n",
       "    <tr>\n",
       "      <th>2010-01-04</th>\n",
       "      <td>7.622500</td>\n",
       "      <td>7.660714</td>\n",
       "      <td>7.585000</td>\n",
       "      <td>7.643214</td>\n",
       "      <td>6.515213</td>\n",
       "      <td>493729600</td>\n",
       "      <td>APPLE</td>\n",
       "    </tr>\n",
       "    <tr>\n",
       "      <th>2010-01-05</th>\n",
       "      <td>7.664286</td>\n",
       "      <td>7.699643</td>\n",
       "      <td>7.616071</td>\n",
       "      <td>7.656429</td>\n",
       "      <td>6.526476</td>\n",
       "      <td>601904800</td>\n",
       "      <td>APPLE</td>\n",
       "    </tr>\n",
       "    <tr>\n",
       "      <th>2010-01-06</th>\n",
       "      <td>7.656429</td>\n",
       "      <td>7.686786</td>\n",
       "      <td>7.526786</td>\n",
       "      <td>7.534643</td>\n",
       "      <td>6.422665</td>\n",
       "      <td>552160000</td>\n",
       "      <td>APPLE</td>\n",
       "    </tr>\n",
       "    <tr>\n",
       "      <th>2010-01-07</th>\n",
       "      <td>7.562500</td>\n",
       "      <td>7.571429</td>\n",
       "      <td>7.466071</td>\n",
       "      <td>7.520714</td>\n",
       "      <td>6.410791</td>\n",
       "      <td>477131200</td>\n",
       "      <td>APPLE</td>\n",
       "    </tr>\n",
       "    <tr>\n",
       "      <th>2010-01-08</th>\n",
       "      <td>7.510714</td>\n",
       "      <td>7.571429</td>\n",
       "      <td>7.466429</td>\n",
       "      <td>7.570714</td>\n",
       "      <td>6.453413</td>\n",
       "      <td>447610800</td>\n",
       "      <td>APPLE</td>\n",
       "    </tr>\n",
       "    <tr>\n",
       "      <th>2010-01-11</th>\n",
       "      <td>7.600000</td>\n",
       "      <td>7.607143</td>\n",
       "      <td>7.444643</td>\n",
       "      <td>7.503929</td>\n",
       "      <td>6.396483</td>\n",
       "      <td>462229600</td>\n",
       "      <td>APPLE</td>\n",
       "    </tr>\n",
       "    <tr>\n",
       "      <th>2010-01-12</th>\n",
       "      <td>7.471071</td>\n",
       "      <td>7.491786</td>\n",
       "      <td>7.372143</td>\n",
       "      <td>7.418571</td>\n",
       "      <td>6.323723</td>\n",
       "      <td>594459600</td>\n",
       "      <td>APPLE</td>\n",
       "    </tr>\n",
       "    <tr>\n",
       "      <th>2010-01-13</th>\n",
       "      <td>7.423929</td>\n",
       "      <td>7.533214</td>\n",
       "      <td>7.289286</td>\n",
       "      <td>7.523214</td>\n",
       "      <td>6.412923</td>\n",
       "      <td>605892000</td>\n",
       "      <td>APPLE</td>\n",
       "    </tr>\n",
       "    <tr>\n",
       "      <th>2010-01-14</th>\n",
       "      <td>7.503929</td>\n",
       "      <td>7.516429</td>\n",
       "      <td>7.465000</td>\n",
       "      <td>7.479643</td>\n",
       "      <td>6.375782</td>\n",
       "      <td>432894000</td>\n",
       "      <td>APPLE</td>\n",
       "    </tr>\n",
       "    <tr>\n",
       "      <th>2010-01-15</th>\n",
       "      <td>7.533214</td>\n",
       "      <td>7.557143</td>\n",
       "      <td>7.352500</td>\n",
       "      <td>7.354643</td>\n",
       "      <td>6.269228</td>\n",
       "      <td>594067600</td>\n",
       "      <td>APPLE</td>\n",
       "    </tr>\n",
       "  </tbody>\n",
       "</table>\n",
       "</div>"
      ],
      "text/plain": [
       "                Open      High       Low     Close  Adj Close     Volume  \\\n",
       "Date                                                                       \n",
       "2010-01-04  7.622500  7.660714  7.585000  7.643214   6.515213  493729600   \n",
       "2010-01-05  7.664286  7.699643  7.616071  7.656429   6.526476  601904800   \n",
       "2010-01-06  7.656429  7.686786  7.526786  7.534643   6.422665  552160000   \n",
       "2010-01-07  7.562500  7.571429  7.466071  7.520714   6.410791  477131200   \n",
       "2010-01-08  7.510714  7.571429  7.466429  7.570714   6.453413  447610800   \n",
       "2010-01-11  7.600000  7.607143  7.444643  7.503929   6.396483  462229600   \n",
       "2010-01-12  7.471071  7.491786  7.372143  7.418571   6.323723  594459600   \n",
       "2010-01-13  7.423929  7.533214  7.289286  7.523214   6.412923  605892000   \n",
       "2010-01-14  7.503929  7.516429  7.465000  7.479643   6.375782  432894000   \n",
       "2010-01-15  7.533214  7.557143  7.352500  7.354643   6.269228  594067600   \n",
       "\n",
       "           company_name  \n",
       "Date                     \n",
       "2010-01-04        APPLE  \n",
       "2010-01-05        APPLE  \n",
       "2010-01-06        APPLE  \n",
       "2010-01-07        APPLE  \n",
       "2010-01-08        APPLE  \n",
       "2010-01-11        APPLE  \n",
       "2010-01-12        APPLE  \n",
       "2010-01-13        APPLE  \n",
       "2010-01-14        APPLE  \n",
       "2010-01-15        APPLE  "
      ]
     },
     "execution_count": 6,
     "metadata": {},
     "output_type": "execute_result"
    }
   ],
   "source": [
    "from datetime import datetime\n",
    "tech_list = ['AAPL', 'GOOG', 'AMZN']\n",
    "\n",
    "start = \"2010-01-01\"\n",
    "end = datetime.now()\n",
    "for stock in tech_list:\n",
    "    globals()[stock] = yf.download(stock, start, end)\n",
    "    \n",
    "company_list = [AAPL, GOOG, AMZN]\n",
    "company_name = [\"APPLE\", \"GOOGLE\", \"AMAZON\"]\n",
    "\n",
    "for company, com_name in zip(company_list, company_name):\n",
    "    company[\"company_name\"] = com_name\n",
    "    \n",
    "df = pd.concat(company_list, axis=0)\n",
    "df.head(10)"
   ]
  },
  {
   "cell_type": "code",
   "execution_count": 141,
   "id": "ca2e11d5",
   "metadata": {},
   "outputs": [],
   "source": [
    "n_lookback = 500\n",
    "n_forecast = 30\n",
    "df_stock = AAPL.reset_index().copy()"
   ]
  },
  {
   "cell_type": "code",
   "execution_count": 142,
   "id": "f808bc6b",
   "metadata": {},
   "outputs": [],
   "source": [
    "df_stock, df_left = create_backtest_frames(df_stock,n_lookback,n_forecast)"
   ]
  },
  {
   "cell_type": "code",
   "execution_count": 143,
   "id": "3ade467b",
   "metadata": {},
   "outputs": [],
   "source": [
    "df_stock = feature_creation(df_stock)"
   ]
  },
  {
   "cell_type": "code",
   "execution_count": 144,
   "id": "562e6019",
   "metadata": {},
   "outputs": [
    {
     "name": "stdout",
     "output_type": "stream",
     "text": [
      "<class 'pandas.core.frame.DataFrame'>\n",
      "RangeIndex: 3262 entries, 0 to 3261\n",
      "Data columns (total 16 columns):\n",
      " #   Column        Non-Null Count  Dtype         \n",
      "---  ------        --------------  -----         \n",
      " 0   Date          3262 non-null   datetime64[ns]\n",
      " 1   Open          3262 non-null   float64       \n",
      " 2   High          3262 non-null   float64       \n",
      " 3   Low           3262 non-null   float64       \n",
      " 4   Close         3262 non-null   float64       \n",
      " 5   Adj Close     3262 non-null   float64       \n",
      " 6   Volume        3262 non-null   int64         \n",
      " 7   company_name  3262 non-null   object        \n",
      " 8   50D-SMA       3213 non-null   float64       \n",
      " 9   50D-EMA       3262 non-null   float64       \n",
      " 10  rsi           3248 non-null   float64       \n",
      " 11  rsicat        3262 non-null   int8          \n",
      " 12  average       3262 non-null   float64       \n",
      " 13  vwap          3262 non-null   float64       \n",
      " 14  vwap_pct_ret  3261 non-null   float64       \n",
      " 15  pvwap         3261 non-null   float64       \n",
      "dtypes: datetime64[ns](1), float64(12), int64(1), int8(1), object(1)\n",
      "memory usage: 385.6+ KB\n"
     ]
    }
   ],
   "source": [
    "df_stock.info()"
   ]
  },
  {
   "cell_type": "code",
   "execution_count": 145,
   "id": "b5c68ac0",
   "metadata": {},
   "outputs": [],
   "source": [
    "df_stock.bfill(inplace=True)\n",
    "df_stock.ffill(inplace=True)"
   ]
  },
  {
   "cell_type": "code",
   "execution_count": 146,
   "id": "62f0f011",
   "metadata": {},
   "outputs": [
    {
     "data": {
      "text/html": [
       "<div>\n",
       "<style scoped>\n",
       "    .dataframe tbody tr th:only-of-type {\n",
       "        vertical-align: middle;\n",
       "    }\n",
       "\n",
       "    .dataframe tbody tr th {\n",
       "        vertical-align: top;\n",
       "    }\n",
       "\n",
       "    .dataframe thead th {\n",
       "        text-align: right;\n",
       "    }\n",
       "</style>\n",
       "<table border=\"1\" class=\"dataframe\">\n",
       "  <thead>\n",
       "    <tr style=\"text-align: right;\">\n",
       "      <th></th>\n",
       "      <th>Date</th>\n",
       "      <th>Open</th>\n",
       "      <th>High</th>\n",
       "      <th>Low</th>\n",
       "      <th>Close</th>\n",
       "      <th>Adj Close</th>\n",
       "      <th>Volume</th>\n",
       "      <th>company_name</th>\n",
       "      <th>50D-SMA</th>\n",
       "      <th>50D-EMA</th>\n",
       "      <th>rsi</th>\n",
       "      <th>rsicat</th>\n",
       "      <th>average</th>\n",
       "      <th>vwap</th>\n",
       "      <th>vwap_pct_ret</th>\n",
       "      <th>pvwap</th>\n",
       "    </tr>\n",
       "  </thead>\n",
       "  <tbody>\n",
       "    <tr>\n",
       "      <th>3257</th>\n",
       "      <td>2022-12-09</td>\n",
       "      <td>142.339996</td>\n",
       "      <td>145.570007</td>\n",
       "      <td>140.899994</td>\n",
       "      <td>142.160004</td>\n",
       "      <td>142.160004</td>\n",
       "      <td>76097000</td>\n",
       "      <td>APPLE</td>\n",
       "      <td>145.151999</td>\n",
       "      <td>146.969722</td>\n",
       "      <td>44.366149</td>\n",
       "      <td>1</td>\n",
       "      <td>142.876668</td>\n",
       "      <td>142.160004</td>\n",
       "      <td>-0.003435</td>\n",
       "      <td>0.016390</td>\n",
       "    </tr>\n",
       "    <tr>\n",
       "      <th>3258</th>\n",
       "      <td>2022-12-12</td>\n",
       "      <td>142.699997</td>\n",
       "      <td>144.500000</td>\n",
       "      <td>141.059998</td>\n",
       "      <td>144.490005</td>\n",
       "      <td>144.490005</td>\n",
       "      <td>70462700</td>\n",
       "      <td>APPLE</td>\n",
       "      <td>145.277799</td>\n",
       "      <td>146.872478</td>\n",
       "      <td>48.145280</td>\n",
       "      <td>1</td>\n",
       "      <td>143.350001</td>\n",
       "      <td>144.490005</td>\n",
       "      <td>0.016390</td>\n",
       "      <td>0.006782</td>\n",
       "    </tr>\n",
       "    <tr>\n",
       "      <th>3259</th>\n",
       "      <td>2022-12-13</td>\n",
       "      <td>149.500000</td>\n",
       "      <td>149.970001</td>\n",
       "      <td>144.240005</td>\n",
       "      <td>145.470001</td>\n",
       "      <td>145.470001</td>\n",
       "      <td>93886200</td>\n",
       "      <td>APPLE</td>\n",
       "      <td>145.338199</td>\n",
       "      <td>146.817479</td>\n",
       "      <td>49.693143</td>\n",
       "      <td>1</td>\n",
       "      <td>146.560003</td>\n",
       "      <td>145.470001</td>\n",
       "      <td>0.006782</td>\n",
       "      <td>-0.015536</td>\n",
       "    </tr>\n",
       "    <tr>\n",
       "      <th>3260</th>\n",
       "      <td>2022-12-14</td>\n",
       "      <td>145.350006</td>\n",
       "      <td>146.660004</td>\n",
       "      <td>141.160004</td>\n",
       "      <td>143.210007</td>\n",
       "      <td>143.210007</td>\n",
       "      <td>82291200</td>\n",
       "      <td>APPLE</td>\n",
       "      <td>145.280399</td>\n",
       "      <td>146.676010</td>\n",
       "      <td>46.263487</td>\n",
       "      <td>1</td>\n",
       "      <td>143.676671</td>\n",
       "      <td>143.210007</td>\n",
       "      <td>-0.015536</td>\n",
       "      <td>-0.046854</td>\n",
       "    </tr>\n",
       "    <tr>\n",
       "      <th>3261</th>\n",
       "      <td>2022-12-15</td>\n",
       "      <td>141.110001</td>\n",
       "      <td>141.800003</td>\n",
       "      <td>136.029999</td>\n",
       "      <td>136.500000</td>\n",
       "      <td>136.500000</td>\n",
       "      <td>98931900</td>\n",
       "      <td>APPLE</td>\n",
       "      <td>145.082400</td>\n",
       "      <td>146.276950</td>\n",
       "      <td>37.899904</td>\n",
       "      <td>1</td>\n",
       "      <td>138.110001</td>\n",
       "      <td>136.500000</td>\n",
       "      <td>-0.046854</td>\n",
       "      <td>-0.046854</td>\n",
       "    </tr>\n",
       "  </tbody>\n",
       "</table>\n",
       "</div>"
      ],
      "text/plain": [
       "           Date        Open        High         Low       Close   Adj Close  \\\n",
       "3257 2022-12-09  142.339996  145.570007  140.899994  142.160004  142.160004   \n",
       "3258 2022-12-12  142.699997  144.500000  141.059998  144.490005  144.490005   \n",
       "3259 2022-12-13  149.500000  149.970001  144.240005  145.470001  145.470001   \n",
       "3260 2022-12-14  145.350006  146.660004  141.160004  143.210007  143.210007   \n",
       "3261 2022-12-15  141.110001  141.800003  136.029999  136.500000  136.500000   \n",
       "\n",
       "        Volume company_name     50D-SMA     50D-EMA        rsi  rsicat  \\\n",
       "3257  76097000        APPLE  145.151999  146.969722  44.366149       1   \n",
       "3258  70462700        APPLE  145.277799  146.872478  48.145280       1   \n",
       "3259  93886200        APPLE  145.338199  146.817479  49.693143       1   \n",
       "3260  82291200        APPLE  145.280399  146.676010  46.263487       1   \n",
       "3261  98931900        APPLE  145.082400  146.276950  37.899904       1   \n",
       "\n",
       "         average        vwap  vwap_pct_ret     pvwap  \n",
       "3257  142.876668  142.160004     -0.003435  0.016390  \n",
       "3258  143.350001  144.490005      0.016390  0.006782  \n",
       "3259  146.560003  145.470001      0.006782 -0.015536  \n",
       "3260  143.676671  143.210007     -0.015536 -0.046854  \n",
       "3261  138.110001  136.500000     -0.046854 -0.046854  "
      ]
     },
     "execution_count": 146,
     "metadata": {},
     "output_type": "execute_result"
    }
   ],
   "source": [
    "#df_left = df_stock.iloc[:-100]\n",
    "df_stock.tail()"
   ]
  },
  {
   "cell_type": "code",
   "execution_count": 147,
   "id": "5ae7628e",
   "metadata": {},
   "outputs": [
    {
     "data": {
      "text/html": [
       "<div>\n",
       "<style scoped>\n",
       "    .dataframe tbody tr th:only-of-type {\n",
       "        vertical-align: middle;\n",
       "    }\n",
       "\n",
       "    .dataframe tbody tr th {\n",
       "        vertical-align: top;\n",
       "    }\n",
       "\n",
       "    .dataframe thead th {\n",
       "        text-align: right;\n",
       "    }\n",
       "</style>\n",
       "<table border=\"1\" class=\"dataframe\">\n",
       "  <thead>\n",
       "    <tr style=\"text-align: right;\">\n",
       "      <th></th>\n",
       "      <th>Date</th>\n",
       "      <th>Open</th>\n",
       "      <th>High</th>\n",
       "      <th>Low</th>\n",
       "      <th>Close</th>\n",
       "      <th>Adj Close</th>\n",
       "      <th>Volume</th>\n",
       "      <th>company_name</th>\n",
       "    </tr>\n",
       "  </thead>\n",
       "  <tbody>\n",
       "    <tr>\n",
       "      <th>3262</th>\n",
       "      <td>2022-12-16</td>\n",
       "      <td>136.690002</td>\n",
       "      <td>137.649994</td>\n",
       "      <td>133.729996</td>\n",
       "      <td>134.509995</td>\n",
       "      <td>134.509995</td>\n",
       "      <td>160156900</td>\n",
       "      <td>APPLE</td>\n",
       "    </tr>\n",
       "    <tr>\n",
       "      <th>3263</th>\n",
       "      <td>2022-12-19</td>\n",
       "      <td>135.110001</td>\n",
       "      <td>135.199997</td>\n",
       "      <td>131.320007</td>\n",
       "      <td>132.369995</td>\n",
       "      <td>132.369995</td>\n",
       "      <td>79592600</td>\n",
       "      <td>APPLE</td>\n",
       "    </tr>\n",
       "    <tr>\n",
       "      <th>3264</th>\n",
       "      <td>2022-12-20</td>\n",
       "      <td>131.389999</td>\n",
       "      <td>133.250000</td>\n",
       "      <td>129.889999</td>\n",
       "      <td>132.300003</td>\n",
       "      <td>132.300003</td>\n",
       "      <td>77432800</td>\n",
       "      <td>APPLE</td>\n",
       "    </tr>\n",
       "    <tr>\n",
       "      <th>3265</th>\n",
       "      <td>2022-12-21</td>\n",
       "      <td>132.979996</td>\n",
       "      <td>136.809998</td>\n",
       "      <td>132.750000</td>\n",
       "      <td>135.449997</td>\n",
       "      <td>135.449997</td>\n",
       "      <td>85928000</td>\n",
       "      <td>APPLE</td>\n",
       "    </tr>\n",
       "    <tr>\n",
       "      <th>3266</th>\n",
       "      <td>2022-12-22</td>\n",
       "      <td>134.350006</td>\n",
       "      <td>134.559998</td>\n",
       "      <td>130.300003</td>\n",
       "      <td>132.229996</td>\n",
       "      <td>132.229996</td>\n",
       "      <td>77852100</td>\n",
       "      <td>APPLE</td>\n",
       "    </tr>\n",
       "  </tbody>\n",
       "</table>\n",
       "</div>"
      ],
      "text/plain": [
       "           Date        Open        High         Low       Close   Adj Close  \\\n",
       "3262 2022-12-16  136.690002  137.649994  133.729996  134.509995  134.509995   \n",
       "3263 2022-12-19  135.110001  135.199997  131.320007  132.369995  132.369995   \n",
       "3264 2022-12-20  131.389999  133.250000  129.889999  132.300003  132.300003   \n",
       "3265 2022-12-21  132.979996  136.809998  132.750000  135.449997  135.449997   \n",
       "3266 2022-12-22  134.350006  134.559998  130.300003  132.229996  132.229996   \n",
       "\n",
       "         Volume company_name  \n",
       "3262  160156900        APPLE  \n",
       "3263   79592600        APPLE  \n",
       "3264   77432800        APPLE  \n",
       "3265   85928000        APPLE  \n",
       "3266   77852100        APPLE  "
      ]
     },
     "execution_count": 147,
     "metadata": {},
     "output_type": "execute_result"
    }
   ],
   "source": [
    "df_left.head()"
   ]
  },
  {
   "cell_type": "code",
   "execution_count": 148,
   "id": "2e4b659b",
   "metadata": {},
   "outputs": [],
   "source": [
    "# Removing last n rows\n",
    "#df_dropped_last_n = df.iloc[:-100]\n",
    " "
   ]
  },
  {
   "cell_type": "code",
   "execution_count": 149,
   "id": "9db7ae50",
   "metadata": {},
   "outputs": [
    {
     "data": {
      "text/plain": [
       "Index(['Date', 'Open', 'High', 'Low', 'Close', 'Adj Close', 'Volume',\n",
       "       'company_name', '50D-SMA', '50D-EMA', 'rsi', 'rsicat', 'average',\n",
       "       'vwap', 'vwap_pct_ret', 'pvwap'],\n",
       "      dtype='object')"
      ]
     },
     "execution_count": 149,
     "metadata": {},
     "output_type": "execute_result"
    }
   ],
   "source": [
    "df_stock.columns"
   ]
  },
  {
   "cell_type": "code",
   "execution_count": 150,
   "id": "b47577f8",
   "metadata": {},
   "outputs": [],
   "source": [
    "features = ['Close','50D-EMA','rsi','rsicat','pvwap']\n",
    "x = df_stock[features]\n",
    "scaler = MinMaxScaler(feature_range=(0, 1))\n",
    "x = scaler.fit_transform(x)"
   ]
  },
  {
   "cell_type": "code",
   "execution_count": 151,
   "id": "ef6ccd60",
   "metadata": {},
   "outputs": [],
   "source": [
    "y = df_stock['Close'].fillna(method='ffill')\n",
    "y = y.values.reshape(-1, 1)\n",
    "\n",
    "# scale the data\n",
    "scaler = MinMaxScaler(feature_range=(0, 1))\n",
    "scaler = scaler.fit(y)\n",
    "y = scaler.transform(y)"
   ]
  },
  {
   "cell_type": "code",
   "execution_count": 152,
   "id": "d4063d48",
   "metadata": {},
   "outputs": [],
   "source": [
    "f_len = len(features)"
   ]
  },
  {
   "cell_type": "code",
   "execution_count": 157,
   "id": "6b76559f",
   "metadata": {},
   "outputs": [
    {
     "name": "stdout",
     "output_type": "stream",
     "text": [
      "Epoch 1/2\n",
      "86/86 [==============================] - 202s 2s/step - loss: 0.0239\n",
      "Epoch 2/2\n",
      "86/86 [==============================] - 206s 2s/step - loss: 0.0014\n"
     ]
    },
    {
     "data": {
      "text/plain": [
       "<tensorflow.python.keras.callbacks.History at 0x1f5847903a0>"
      ]
     },
     "execution_count": 157,
     "metadata": {},
     "output_type": "execute_result"
    }
   ],
   "source": [
    "%run stock_utils.py\n",
    "a,b = create_train_test_windows(x,y,n_lookback,n_forecast)\n",
    "stock_model = create_model(n_lookback,n_forecast,f_len,model_type='BiLSTM')\n",
    "stock_model.fit(a, b, epochs=2, batch_size=32)\n"
   ]
  },
  {
   "cell_type": "code",
   "execution_count": 158,
   "id": "45d06b04",
   "metadata": {},
   "outputs": [],
   "source": [
    "#stock_model = tf.keras.models.load_model('saved_models/AAPL_7day_model')"
   ]
  },
  {
   "cell_type": "code",
   "execution_count": 161,
   "id": "516d7980",
   "metadata": {},
   "outputs": [],
   "source": [
    "%run stock_utils.py\n",
    "df_f,df_p = make_future_dataframe(df_stock,x,y,n_lookback,n_forecast,stock_model,scaler,features,f_len)"
   ]
  },
  {
   "cell_type": "code",
   "execution_count": 125,
   "id": "585c0f76",
   "metadata": {},
   "outputs": [
    {
     "data": {
      "text/html": [
       "<div>\n",
       "<style scoped>\n",
       "    .dataframe tbody tr th:only-of-type {\n",
       "        vertical-align: middle;\n",
       "    }\n",
       "\n",
       "    .dataframe tbody tr th {\n",
       "        vertical-align: top;\n",
       "    }\n",
       "\n",
       "    .dataframe thead th {\n",
       "        text-align: right;\n",
       "    }\n",
       "</style>\n",
       "<table border=\"1\" class=\"dataframe\">\n",
       "  <thead>\n",
       "    <tr style=\"text-align: right;\">\n",
       "      <th></th>\n",
       "      <th>Date</th>\n",
       "      <th>Actual</th>\n",
       "      <th>50D-SMA</th>\n",
       "      <th>50D-EMA</th>\n",
       "      <th>rsi</th>\n",
       "      <th>rsicat</th>\n",
       "      <th>Forecast</th>\n",
       "    </tr>\n",
       "  </thead>\n",
       "  <tbody>\n",
       "    <tr>\n",
       "      <th>3227</th>\n",
       "      <td>2022-10-27</td>\n",
       "      <td>144.800003</td>\n",
       "      <td>152.168399</td>\n",
       "      <td>149.506928</td>\n",
       "      <td>46.811996</td>\n",
       "      <td>1</td>\n",
       "      <td>NaN</td>\n",
       "    </tr>\n",
       "    <tr>\n",
       "      <th>3228</th>\n",
       "      <td>2022-10-28</td>\n",
       "      <td>155.740005</td>\n",
       "      <td>151.800200</td>\n",
       "      <td>149.751363</td>\n",
       "      <td>59.543661</td>\n",
       "      <td>2</td>\n",
       "      <td>NaN</td>\n",
       "    </tr>\n",
       "    <tr>\n",
       "      <th>3229</th>\n",
       "      <td>2022-10-31</td>\n",
       "      <td>153.339996</td>\n",
       "      <td>151.436599</td>\n",
       "      <td>149.892093</td>\n",
       "      <td>56.356558</td>\n",
       "      <td>2</td>\n",
       "      <td>NaN</td>\n",
       "    </tr>\n",
       "    <tr>\n",
       "      <th>3230</th>\n",
       "      <td>2022-11-01</td>\n",
       "      <td>150.649994</td>\n",
       "      <td>151.098199</td>\n",
       "      <td>149.921815</td>\n",
       "      <td>52.936449</td>\n",
       "      <td>2</td>\n",
       "      <td>NaN</td>\n",
       "    </tr>\n",
       "    <tr>\n",
       "      <th>3231</th>\n",
       "      <td>2022-11-02</td>\n",
       "      <td>145.029999</td>\n",
       "      <td>150.654199</td>\n",
       "      <td>149.729979</td>\n",
       "      <td>46.576802</td>\n",
       "      <td>1</td>\n",
       "      <td>145.029999</td>\n",
       "    </tr>\n",
       "  </tbody>\n",
       "</table>\n",
       "</div>"
      ],
      "text/plain": [
       "           Date      Actual     50D-SMA     50D-EMA        rsi  rsicat  \\\n",
       "3227 2022-10-27  144.800003  152.168399  149.506928  46.811996       1   \n",
       "3228 2022-10-28  155.740005  151.800200  149.751363  59.543661       2   \n",
       "3229 2022-10-31  153.339996  151.436599  149.892093  56.356558       2   \n",
       "3230 2022-11-01  150.649994  151.098199  149.921815  52.936449       2   \n",
       "3231 2022-11-02  145.029999  150.654199  149.729979  46.576802       1   \n",
       "\n",
       "        Forecast  \n",
       "3227         NaN  \n",
       "3228         NaN  \n",
       "3229         NaN  \n",
       "3230         NaN  \n",
       "3231  145.029999  "
      ]
     },
     "execution_count": 125,
     "metadata": {},
     "output_type": "execute_result"
    }
   ],
   "source": [
    "df_p.tail()"
   ]
  },
  {
   "cell_type": "code",
   "execution_count": 41,
   "id": "a79b867a",
   "metadata": {},
   "outputs": [
    {
     "data": {
      "text/html": [
       "<div>\n",
       "<style scoped>\n",
       "    .dataframe tbody tr th:only-of-type {\n",
       "        vertical-align: middle;\n",
       "    }\n",
       "\n",
       "    .dataframe tbody tr th {\n",
       "        vertical-align: top;\n",
       "    }\n",
       "\n",
       "    .dataframe thead th {\n",
       "        text-align: right;\n",
       "    }\n",
       "</style>\n",
       "<table border=\"1\" class=\"dataframe\">\n",
       "  <thead>\n",
       "    <tr style=\"text-align: right;\">\n",
       "      <th></th>\n",
       "      <th>Date</th>\n",
       "      <th>Open</th>\n",
       "      <th>High</th>\n",
       "      <th>Low</th>\n",
       "      <th>Close</th>\n",
       "      <th>Adj Close</th>\n",
       "      <th>Volume</th>\n",
       "      <th>company_name</th>\n",
       "    </tr>\n",
       "  </thead>\n",
       "  <tbody>\n",
       "    <tr>\n",
       "      <th>3286</th>\n",
       "      <td>2023-01-24</td>\n",
       "      <td>96.930000</td>\n",
       "      <td>98.089996</td>\n",
       "      <td>96.000000</td>\n",
       "      <td>96.320000</td>\n",
       "      <td>96.320000</td>\n",
       "      <td>66929500</td>\n",
       "      <td>AMAZON</td>\n",
       "    </tr>\n",
       "    <tr>\n",
       "      <th>3287</th>\n",
       "      <td>2023-01-25</td>\n",
       "      <td>92.559998</td>\n",
       "      <td>97.239998</td>\n",
       "      <td>91.519997</td>\n",
       "      <td>97.180000</td>\n",
       "      <td>97.180000</td>\n",
       "      <td>94261600</td>\n",
       "      <td>AMAZON</td>\n",
       "    </tr>\n",
       "    <tr>\n",
       "      <th>3288</th>\n",
       "      <td>2023-01-26</td>\n",
       "      <td>98.239998</td>\n",
       "      <td>99.489998</td>\n",
       "      <td>96.919998</td>\n",
       "      <td>99.220001</td>\n",
       "      <td>99.220001</td>\n",
       "      <td>68523600</td>\n",
       "      <td>AMAZON</td>\n",
       "    </tr>\n",
       "    <tr>\n",
       "      <th>3289</th>\n",
       "      <td>2023-01-27</td>\n",
       "      <td>99.529999</td>\n",
       "      <td>103.489998</td>\n",
       "      <td>99.529999</td>\n",
       "      <td>102.239998</td>\n",
       "      <td>102.239998</td>\n",
       "      <td>87678100</td>\n",
       "      <td>AMAZON</td>\n",
       "    </tr>\n",
       "    <tr>\n",
       "      <th>3290</th>\n",
       "      <td>2023-01-30</td>\n",
       "      <td>101.089996</td>\n",
       "      <td>101.739998</td>\n",
       "      <td>99.010002</td>\n",
       "      <td>101.250000</td>\n",
       "      <td>101.250000</td>\n",
       "      <td>46040604</td>\n",
       "      <td>AMAZON</td>\n",
       "    </tr>\n",
       "  </tbody>\n",
       "</table>\n",
       "</div>"
      ],
      "text/plain": [
       "           Date        Open        High        Low       Close   Adj Close  \\\n",
       "3286 2023-01-24   96.930000   98.089996  96.000000   96.320000   96.320000   \n",
       "3287 2023-01-25   92.559998   97.239998  91.519997   97.180000   97.180000   \n",
       "3288 2023-01-26   98.239998   99.489998  96.919998   99.220001   99.220001   \n",
       "3289 2023-01-27   99.529999  103.489998  99.529999  102.239998  102.239998   \n",
       "3290 2023-01-30  101.089996  101.739998  99.010002  101.250000  101.250000   \n",
       "\n",
       "        Volume company_name  \n",
       "3286  66929500       AMAZON  \n",
       "3287  94261600       AMAZON  \n",
       "3288  68523600       AMAZON  \n",
       "3289  87678100       AMAZON  \n",
       "3290  46040604       AMAZON  "
      ]
     },
     "execution_count": 41,
     "metadata": {},
     "output_type": "execute_result"
    }
   ],
   "source": [
    "df_.tail()"
   ]
  },
  {
   "cell_type": "code",
   "execution_count": 42,
   "id": "e4d48f8b",
   "metadata": {},
   "outputs": [],
   "source": [
    "df_f['Date'] = pd.bdate_range(dummy,periods=n_forecast)"
   ]
  },
  {
   "cell_type": "code",
   "execution_count": 47,
   "id": "354e9e31",
   "metadata": {},
   "outputs": [
    {
     "name": "stdout",
     "output_type": "stream",
     "text": [
      "2023-01-31 20:09:59.673267\n"
     ]
    }
   ],
   "source": [
    "from datetime import timedelta\n",
    "\n",
    "print(dummy+timedelta(days=1))"
   ]
  },
  {
   "cell_type": "code",
   "execution_count": null,
   "id": "53ba361c",
   "metadata": {},
   "outputs": [],
   "source": [
    "import matplotlib.pyplot as plt\n",
    "df_left['Forecast'] = df_f['Forecast']\n",
    "df_left.plot(x='Date',y=['Forecast','Close'])"
   ]
  },
  {
   "cell_type": "code",
   "execution_count": 162,
   "id": "e59ffdc6",
   "metadata": {},
   "outputs": [
    {
     "data": {
      "text/plain": [
       "12.984221618824414"
      ]
     },
     "execution_count": 162,
     "metadata": {},
     "output_type": "execute_result"
    }
   ],
   "source": [
    "rmse = np.sqrt(np.mean(((np.array(df_f['Forecast'])- np.array(df_left['Close'])) ** 2)))\n",
    "rmse"
   ]
  },
  {
   "cell_type": "code",
   "execution_count": 163,
   "id": "1f91e14d",
   "metadata": {},
   "outputs": [
    {
     "name": "stdout",
     "output_type": "stream",
     "text": [
      "0.07424501751581289\n",
      "9.850588734944662\n"
     ]
    }
   ],
   "source": [
    "from sklearn.metrics import mean_absolute_percentage_error,mean_absolute_error\n",
    "print(mean_absolute_percentage_error(np.array(df_left['Close']), np.array(df_f['Forecast'])))\n",
    "print(mean_absolute_error(np.array(df_left['Close']), np.array(df_f['Forecast'])))"
   ]
  },
  {
   "cell_type": "code",
   "execution_count": null,
   "id": "37ac113e",
   "metadata": {},
   "outputs": [
    {
     "name": "stdout",
     "output_type": "stream",
     "text": [
      "INFO:tensorflow:Assets written to: saved_models/AAPL_30day_Bi_model\\assets\n"
     ]
    }
   ],
   "source": [
    "stock_model.save('saved_models/AAPL_30day_Bi_model')\n",
    "#stock_model = tf.keras.models.load_model('saved_models/AMZN_60day_Bi_model')"
   ]
  },
  {
   "cell_type": "code",
   "execution_count": 90,
   "id": "2235e9e6",
   "metadata": {},
   "outputs": [
    {
     "data": {
      "image/png": "[encoded data removed]",
      "text/plain": [
       "<IPython.core.display.Image object>"
      ]
     },
     "execution_count": 90,
     "metadata": {},
     "output_type": "execute_result"
    }
   ],
   "source": [
    "ifile = 'model_archs/AMZN_60day_model.png'\n",
    "tf.keras.utils.plot_model(stock_model, to_file = ifile, show_shapes = True, show_layer_names = True)"
   ]
  },
  {
   "cell_type": "code",
   "execution_count": 19,
   "id": "330ae706",
   "metadata": {},
   "outputs": [],
   "source": [
    "dummy = datetime.now()"
   ]
  },
  {
   "cell_type": "code",
   "execution_count": 20,
   "id": "1ad2ad14",
   "metadata": {},
   "outputs": [
    {
     "data": {
      "text/plain": [
       "datetime.datetime(2023, 1, 30, 20, 9, 59, 673267)"
      ]
     },
     "execution_count": 20,
     "metadata": {},
     "output_type": "execute_result"
    }
   ],
   "source": [
    "dummy"
   ]
  },
  {
   "cell_type": "code",
   "execution_count": 21,
   "id": "413638fc",
   "metadata": {},
   "outputs": [],
   "source": [
    "business_days = pd.bdate_range(dummy,periods=7)"
   ]
  },
  {
   "cell_type": "code",
   "execution_count": 132,
   "id": "235af626",
   "metadata": {},
   "outputs": [
    {
     "data": {
      "text/plain": [
       "(60, 3)"
      ]
     },
     "execution_count": 132,
     "metadata": {},
     "output_type": "execute_result"
    }
   ],
   "source": [
    "df_f.shape"
   ]
  },
  {
   "cell_type": "code",
   "execution_count": 138,
   "id": "cd55469b",
   "metadata": {},
   "outputs": [],
   "source": [
    "from datetime import datetime, timedelta\n",
    "today = datetime.now()\n",
    "next_day = today+timedelta(days=1)\n",
    "df_f['Date'] = pd.bdate_range(next_day,periods=n_forecast)"
   ]
  },
  {
   "cell_type": "code",
   "execution_count": 139,
   "id": "ea79bd58",
   "metadata": {},
   "outputs": [
    {
     "data": {
      "text/plain": [
       "datetime.datetime(2023, 1, 31, 21, 33, 28, 730407)"
      ]
     },
     "execution_count": 139,
     "metadata": {},
     "output_type": "execute_result"
    }
   ],
   "source": [
    "today"
   ]
  },
  {
   "cell_type": "code",
   "execution_count": 140,
   "id": "5c8dd980",
   "metadata": {},
   "outputs": [
    {
     "data": {
      "text/plain": [
       "datetime.datetime(2023, 2, 1, 21, 33, 28, 730407)"
      ]
     },
     "execution_count": 140,
     "metadata": {},
     "output_type": "execute_result"
    }
   ],
   "source": [
    "next_day"
   ]
  },
  {
   "cell_type": "code",
   "execution_count": 137,
   "id": "af43d5e9",
   "metadata": {},
   "outputs": [
    {
     "data": {
      "text/html": [
       "<div>\n",
       "<style scoped>\n",
       "    .dataframe tbody tr th:only-of-type {\n",
       "        vertical-align: middle;\n",
       "    }\n",
       "\n",
       "    .dataframe tbody tr th {\n",
       "        vertical-align: top;\n",
       "    }\n",
       "\n",
       "    .dataframe thead th {\n",
       "        text-align: right;\n",
       "    }\n",
       "</style>\n",
       "<table border=\"1\" class=\"dataframe\">\n",
       "  <thead>\n",
       "    <tr style=\"text-align: right;\">\n",
       "      <th></th>\n",
       "      <th>Date</th>\n",
       "      <th>Actual</th>\n",
       "      <th>Forecast</th>\n",
       "    </tr>\n",
       "  </thead>\n",
       "  <tbody>\n",
       "    <tr>\n",
       "      <th>0</th>\n",
       "      <td>2023-04-03</td>\n",
       "      <td>NaN</td>\n",
       "      <td>141.756714</td>\n",
       "    </tr>\n",
       "    <tr>\n",
       "      <th>1</th>\n",
       "      <td>2023-04-04</td>\n",
       "      <td>NaN</td>\n",
       "      <td>154.282227</td>\n",
       "    </tr>\n",
       "    <tr>\n",
       "      <th>2</th>\n",
       "      <td>2023-04-05</td>\n",
       "      <td>NaN</td>\n",
       "      <td>147.149353</td>\n",
       "    </tr>\n",
       "    <tr>\n",
       "      <th>3</th>\n",
       "      <td>2023-04-06</td>\n",
       "      <td>NaN</td>\n",
       "      <td>152.861603</td>\n",
       "    </tr>\n",
       "    <tr>\n",
       "      <th>4</th>\n",
       "      <td>2023-04-07</td>\n",
       "      <td>NaN</td>\n",
       "      <td>158.435730</td>\n",
       "    </tr>\n",
       "  </tbody>\n",
       "</table>\n",
       "</div>"
      ],
      "text/plain": [
       "        Date Actual    Forecast\n",
       "0 2023-04-03    NaN  141.756714\n",
       "1 2023-04-04    NaN  154.282227\n",
       "2 2023-04-05    NaN  147.149353\n",
       "3 2023-04-06    NaN  152.861603\n",
       "4 2023-04-07    NaN  158.435730"
      ]
     },
     "execution_count": 137,
     "metadata": {},
     "output_type": "execute_result"
    }
   ],
   "source": [
    "df_f.head()"
   ]
  },
  {
   "cell_type": "code",
   "execution_count": null,
   "id": "c82d45f7",
   "metadata": {},
   "outputs": [],
   "source": [
    "#df_Actual = df.loc[(df['Date']>='2022-08-23')&(df['Date']<='2022-10-11')]"
   ]
  },
  {
   "cell_type": "code",
   "execution_count": null,
   "id": "61b9116c",
   "metadata": {},
   "outputs": [],
   "source": [
    "#df_Actual.head(36)"
   ]
  },
  {
   "cell_type": "code",
   "execution_count": null,
   "id": "5a6a537c",
   "metadata": {},
   "outputs": [],
   "source": [
    "#new_df = pd.merge(df_Actual, df_future,  how='inner',on='Date')"
   ]
  },
  {
   "cell_type": "code",
   "execution_count": null,
   "id": "8cc8dc3e",
   "metadata": {},
   "outputs": [],
   "source": [
    "#new_df.head(36)"
   ]
  },
  {
   "cell_type": "code",
   "execution_count": null,
   "id": "3fd4eedd",
   "metadata": {},
   "outputs": [],
   "source": [
    "#df_future = df_future[df_future.Date.dt.weekday < 5]"
   ]
  },
  {
   "cell_type": "code",
   "execution_count": null,
   "id": "d1032e71",
   "metadata": {},
   "outputs": [],
   "source": [
    "#from sklearn.metrics import mean_squared_error\n",
    "#mean_squared_error(np.array(new_df['Close']),np.array(new_df['Forecast']))\n",
    "#df_future.head(5)"
   ]
  },
  {
   "cell_type": "code",
   "execution_count": null,
   "id": "8453decc",
   "metadata": {},
   "outputs": [],
   "source": [
    "#df_Actual.shape"
   ]
  },
  {
   "cell_type": "code",
   "execution_count": null,
   "id": "23df6989",
   "metadata": {},
   "outputs": [],
   "source": [
    "#rmse = np.sqrt(np.mean(((np.array(df_future['Forecast'])- np.array(df_Actual['Close'])) ** 2)))\n",
    "#rmse"
   ]
  },
  {
   "cell_type": "code",
   "execution_count": null,
   "id": "f34435a9",
   "metadata": {},
   "outputs": [],
   "source": [
    "#results = df_past.append(df_future).set_index('Date')\n",
    "\n",
    "# plot the results\n",
    "#results.plot(title='AAPL')"
   ]
  },
  {
   "cell_type": "code",
   "execution_count": null,
   "id": "ca232940",
   "metadata": {},
   "outputs": [],
   "source": []
  }
 ],
 "metadata": {
  "kernelspec": {
   "display_name": "Python 3 (ipykernel)",
   "language": "python",
   "name": "python3"
  },
  "language_info": {
   "codemirror_mode": {
    "name": "ipython",
    "version": 3
   },
   "file_extension": ".py",
   "mimetype": "text/x-python",
   "name": "python",
   "nbconvert_exporter": "python",
   "pygments_lexer": "ipython3",
   "version": "3.8.8"
  }
 },
 "nbformat": 4,
 "nbformat_minor": 5
}
